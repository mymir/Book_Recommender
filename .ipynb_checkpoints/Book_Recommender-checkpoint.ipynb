{
 "cells": [
  {
   "cell_type": "markdown",
   "id": "49719974-1273-4430-beb1-c49a197d09ff",
   "metadata": {},
   "source": [
    "# Book Recommender System\n",
    "### Project Topic\n",
    "#### Citation\n",
    "For this project I chose to create a book recommender system. I am using the [Book Recommender System](https://www.kaggle.com/datasets/rxsraghavagrawal/book-recommender-system/data) dataset from Kaggle: <br>\n",
    "> RAGHAV AGRAWAL. Book Recommender System. Retrieved June 24, 2024 from (https://www.kaggle.com/datasets/rxsraghavagrawal/book-recommender-system/data).\n",
    ">\n",
    "#### Github Repo\n",
    "The code for this project can be found on this GitHub page: (https://github.com/mymir/Book_Recommender)\n",
    "#### Problem Statement\n",
    "The goal for this project is to create an unsupervised learning model that can reccomend books to users based on their previous ratings. With the ever growing selection of books available, it can be hard for readers to choose what to read next. Recommender systems make it easier for people to filter out books they wouldn't like and find new favorites.<br>\n",
    "#### Type of Algorithm\n",
    "Unsupervised learning methods are a good fit for recommender systems. Furthermore, for this project I think clustering methods would produce the best results. Similar books and similar users can be clustered together to make more accuracte predictions."
   ]
  },
  {
   "cell_type": "markdown",
   "id": "dd9fe695-8273-4eca-9543-fd5b54aa87cd",
   "metadata": {},
   "source": [
    "## Load Data\n",
    "The data comes in three csv files. Load each into their own pandas dataframe."
   ]
  },
  {
   "cell_type": "code",
   "execution_count": 1,
   "id": "1c6f1abe-84e4-432c-a044-0b67c27bf783",
   "metadata": {},
   "outputs": [],
   "source": [
    "import pandas as pd\n",
    "import seaborn as sb\n",
    "from seaborn import objects as so\n",
    "import numpy as np\n",
    "from scipy.sparse import coo_matrix, csr_matrix\n",
    "from sklearn.cluster import KMeans, BisectingKMeans\n",
    "from sklearn.neighbors import NearestNeighbors\n",
    "from sklearn.model_selection import train_test_split\n",
    "from sklearn.metrics import accuracy_score, confusion_matrix\n",
    "from sklearn.ensemble import RandomForestClassifier"
   ]
  },
  {
   "cell_type": "code",
   "execution_count": 2,
   "id": "12b225f2-4eba-4ecd-bbba-3080d019a311",
   "metadata": {},
   "outputs": [],
   "source": [
    "users = pd.read_csv('data/BX-Users.csv', encoding='latin-1', sep=';', on_bad_lines='skip')\n",
    "books = pd.read_csv('data/BX-Books.csv', encoding='latin-1', sep=';', on_bad_lines='skip', low_memory=False)\n",
    "ratings = pd.read_csv('data/BX-Book-Ratings.csv', encoding='latin-1', sep=';', on_bad_lines='skip')"
   ]
  },
  {
   "cell_type": "markdown",
   "id": "c832f1d1-1cda-4a72-8931-5cf452156797",
   "metadata": {},
   "source": [
    "## Data Overview\n",
    "Look into the size of each dataframe, the number of features they each have, and the datatype of each feature."
   ]
  },
  {
   "cell_type": "markdown",
   "id": "f5f68b41-8c83-48cf-af3a-63f25c95805f",
   "metadata": {},
   "source": [
    "### Book Features\n",
    "The books dataframe has 8 columns, each with the Dtype: object. It contains 271360 entries."
   ]
  },
  {
   "cell_type": "code",
   "execution_count": 3,
   "id": "486dc92f-74a7-427e-aef1-7f08eb9204e8",
   "metadata": {},
   "outputs": [
    {
     "name": "stdout",
     "output_type": "stream",
     "text": [
      "<class 'pandas.core.frame.DataFrame'>\n",
      "RangeIndex: 271360 entries, 0 to 271359\n",
      "Data columns (total 8 columns):\n",
      " #   Column               Non-Null Count   Dtype \n",
      "---  ------               --------------   ----- \n",
      " 0   ISBN                 271360 non-null  object\n",
      " 1   Book-Title           271360 non-null  object\n",
      " 2   Book-Author          271358 non-null  object\n",
      " 3   Year-Of-Publication  271360 non-null  object\n",
      " 4   Publisher            271358 non-null  object\n",
      " 5   Image-URL-S          271360 non-null  object\n",
      " 6   Image-URL-M          271360 non-null  object\n",
      " 7   Image-URL-L          271357 non-null  object\n",
      "dtypes: object(8)\n",
      "memory usage: 16.6+ MB\n"
     ]
    }
   ],
   "source": [
    "books.info()"
   ]
  },
  {
   "cell_type": "code",
   "execution_count": 4,
   "id": "991c543e-4e22-4fb2-adf8-488fe58fd7a0",
   "metadata": {},
   "outputs": [
    {
     "data": {
      "text/html": [
       "<div>\n",
       "<style scoped>\n",
       "    .dataframe tbody tr th:only-of-type {\n",
       "        vertical-align: middle;\n",
       "    }\n",
       "\n",
       "    .dataframe tbody tr th {\n",
       "        vertical-align: top;\n",
       "    }\n",
       "\n",
       "    .dataframe thead th {\n",
       "        text-align: right;\n",
       "    }\n",
       "</style>\n",
       "<table border=\"1\" class=\"dataframe\">\n",
       "  <thead>\n",
       "    <tr style=\"text-align: right;\">\n",
       "      <th></th>\n",
       "      <th>ISBN</th>\n",
       "      <th>Book-Title</th>\n",
       "      <th>Book-Author</th>\n",
       "      <th>Year-Of-Publication</th>\n",
       "      <th>Publisher</th>\n",
       "      <th>Image-URL-S</th>\n",
       "      <th>Image-URL-M</th>\n",
       "      <th>Image-URL-L</th>\n",
       "    </tr>\n",
       "  </thead>\n",
       "  <tbody>\n",
       "    <tr>\n",
       "      <th>0</th>\n",
       "      <td>0195153448</td>\n",
       "      <td>Classical Mythology</td>\n",
       "      <td>Mark P. O. Morford</td>\n",
       "      <td>2002</td>\n",
       "      <td>Oxford University Press</td>\n",
       "      <td>http://images.amazon.com/images/P/0195153448.0...</td>\n",
       "      <td>http://images.amazon.com/images/P/0195153448.0...</td>\n",
       "      <td>http://images.amazon.com/images/P/0195153448.0...</td>\n",
       "    </tr>\n",
       "    <tr>\n",
       "      <th>1</th>\n",
       "      <td>0002005018</td>\n",
       "      <td>Clara Callan</td>\n",
       "      <td>Richard Bruce Wright</td>\n",
       "      <td>2001</td>\n",
       "      <td>HarperFlamingo Canada</td>\n",
       "      <td>http://images.amazon.com/images/P/0002005018.0...</td>\n",
       "      <td>http://images.amazon.com/images/P/0002005018.0...</td>\n",
       "      <td>http://images.amazon.com/images/P/0002005018.0...</td>\n",
       "    </tr>\n",
       "    <tr>\n",
       "      <th>2</th>\n",
       "      <td>0060973129</td>\n",
       "      <td>Decision in Normandy</td>\n",
       "      <td>Carlo D'Este</td>\n",
       "      <td>1991</td>\n",
       "      <td>HarperPerennial</td>\n",
       "      <td>http://images.amazon.com/images/P/0060973129.0...</td>\n",
       "      <td>http://images.amazon.com/images/P/0060973129.0...</td>\n",
       "      <td>http://images.amazon.com/images/P/0060973129.0...</td>\n",
       "    </tr>\n",
       "    <tr>\n",
       "      <th>3</th>\n",
       "      <td>0374157065</td>\n",
       "      <td>Flu: The Story of the Great Influenza Pandemic...</td>\n",
       "      <td>Gina Bari Kolata</td>\n",
       "      <td>1999</td>\n",
       "      <td>Farrar Straus Giroux</td>\n",
       "      <td>http://images.amazon.com/images/P/0374157065.0...</td>\n",
       "      <td>http://images.amazon.com/images/P/0374157065.0...</td>\n",
       "      <td>http://images.amazon.com/images/P/0374157065.0...</td>\n",
       "    </tr>\n",
       "    <tr>\n",
       "      <th>4</th>\n",
       "      <td>0393045218</td>\n",
       "      <td>The Mummies of Urumchi</td>\n",
       "      <td>E. J. W. Barber</td>\n",
       "      <td>1999</td>\n",
       "      <td>W. W. Norton &amp;amp; Company</td>\n",
       "      <td>http://images.amazon.com/images/P/0393045218.0...</td>\n",
       "      <td>http://images.amazon.com/images/P/0393045218.0...</td>\n",
       "      <td>http://images.amazon.com/images/P/0393045218.0...</td>\n",
       "    </tr>\n",
       "  </tbody>\n",
       "</table>\n",
       "</div>"
      ],
      "text/plain": [
       "         ISBN                                         Book-Title  \\\n",
       "0  0195153448                                Classical Mythology   \n",
       "1  0002005018                                       Clara Callan   \n",
       "2  0060973129                               Decision in Normandy   \n",
       "3  0374157065  Flu: The Story of the Great Influenza Pandemic...   \n",
       "4  0393045218                             The Mummies of Urumchi   \n",
       "\n",
       "            Book-Author Year-Of-Publication                   Publisher  \\\n",
       "0    Mark P. O. Morford                2002     Oxford University Press   \n",
       "1  Richard Bruce Wright                2001       HarperFlamingo Canada   \n",
       "2          Carlo D'Este                1991             HarperPerennial   \n",
       "3      Gina Bari Kolata                1999        Farrar Straus Giroux   \n",
       "4       E. J. W. Barber                1999  W. W. Norton &amp; Company   \n",
       "\n",
       "                                         Image-URL-S  \\\n",
       "0  http://images.amazon.com/images/P/0195153448.0...   \n",
       "1  http://images.amazon.com/images/P/0002005018.0...   \n",
       "2  http://images.amazon.com/images/P/0060973129.0...   \n",
       "3  http://images.amazon.com/images/P/0374157065.0...   \n",
       "4  http://images.amazon.com/images/P/0393045218.0...   \n",
       "\n",
       "                                         Image-URL-M  \\\n",
       "0  http://images.amazon.com/images/P/0195153448.0...   \n",
       "1  http://images.amazon.com/images/P/0002005018.0...   \n",
       "2  http://images.amazon.com/images/P/0060973129.0...   \n",
       "3  http://images.amazon.com/images/P/0374157065.0...   \n",
       "4  http://images.amazon.com/images/P/0393045218.0...   \n",
       "\n",
       "                                         Image-URL-L  \n",
       "0  http://images.amazon.com/images/P/0195153448.0...  \n",
       "1  http://images.amazon.com/images/P/0002005018.0...  \n",
       "2  http://images.amazon.com/images/P/0060973129.0...  \n",
       "3  http://images.amazon.com/images/P/0374157065.0...  \n",
       "4  http://images.amazon.com/images/P/0393045218.0...  "
      ]
     },
     "execution_count": 4,
     "metadata": {},
     "output_type": "execute_result"
    }
   ],
   "source": [
    "books.head()"
   ]
  },
  {
   "cell_type": "markdown",
   "id": "43a5958c-a7a2-447a-b231-5aca2eff3249",
   "metadata": {},
   "source": [
    "### User Features\n",
    "The users dataframe has 3 columns with the Dtypes: int64 for id, object for the location, and float64 for the age. It contains 278858 entries."
   ]
  },
  {
   "cell_type": "code",
   "execution_count": 5,
   "id": "bdc8d992-2985-43b3-85dd-2ce0d12e26d2",
   "metadata": {},
   "outputs": [
    {
     "name": "stdout",
     "output_type": "stream",
     "text": [
      "<class 'pandas.core.frame.DataFrame'>\n",
      "RangeIndex: 278858 entries, 0 to 278857\n",
      "Data columns (total 3 columns):\n",
      " #   Column    Non-Null Count   Dtype  \n",
      "---  ------    --------------   -----  \n",
      " 0   User-ID   278858 non-null  int64  \n",
      " 1   Location  278858 non-null  object \n",
      " 2   Age       168096 non-null  float64\n",
      "dtypes: float64(1), int64(1), object(1)\n",
      "memory usage: 6.4+ MB\n"
     ]
    }
   ],
   "source": [
    "users.info()"
   ]
  },
  {
   "cell_type": "code",
   "execution_count": 6,
   "id": "a7913fbe-b466-478d-8bb2-f88d010a8379",
   "metadata": {},
   "outputs": [
    {
     "data": {
      "text/html": [
       "<div>\n",
       "<style scoped>\n",
       "    .dataframe tbody tr th:only-of-type {\n",
       "        vertical-align: middle;\n",
       "    }\n",
       "\n",
       "    .dataframe tbody tr th {\n",
       "        vertical-align: top;\n",
       "    }\n",
       "\n",
       "    .dataframe thead th {\n",
       "        text-align: right;\n",
       "    }\n",
       "</style>\n",
       "<table border=\"1\" class=\"dataframe\">\n",
       "  <thead>\n",
       "    <tr style=\"text-align: right;\">\n",
       "      <th></th>\n",
       "      <th>User-ID</th>\n",
       "      <th>Location</th>\n",
       "      <th>Age</th>\n",
       "    </tr>\n",
       "  </thead>\n",
       "  <tbody>\n",
       "    <tr>\n",
       "      <th>0</th>\n",
       "      <td>1</td>\n",
       "      <td>nyc, new york, usa</td>\n",
       "      <td>NaN</td>\n",
       "    </tr>\n",
       "    <tr>\n",
       "      <th>1</th>\n",
       "      <td>2</td>\n",
       "      <td>stockton, california, usa</td>\n",
       "      <td>18.0</td>\n",
       "    </tr>\n",
       "    <tr>\n",
       "      <th>2</th>\n",
       "      <td>3</td>\n",
       "      <td>moscow, yukon territory, russia</td>\n",
       "      <td>NaN</td>\n",
       "    </tr>\n",
       "    <tr>\n",
       "      <th>3</th>\n",
       "      <td>4</td>\n",
       "      <td>porto, v.n.gaia, portugal</td>\n",
       "      <td>17.0</td>\n",
       "    </tr>\n",
       "    <tr>\n",
       "      <th>4</th>\n",
       "      <td>5</td>\n",
       "      <td>farnborough, hants, united kingdom</td>\n",
       "      <td>NaN</td>\n",
       "    </tr>\n",
       "  </tbody>\n",
       "</table>\n",
       "</div>"
      ],
      "text/plain": [
       "   User-ID                            Location   Age\n",
       "0        1                  nyc, new york, usa   NaN\n",
       "1        2           stockton, california, usa  18.0\n",
       "2        3     moscow, yukon territory, russia   NaN\n",
       "3        4           porto, v.n.gaia, portugal  17.0\n",
       "4        5  farnborough, hants, united kingdom   NaN"
      ]
     },
     "execution_count": 6,
     "metadata": {},
     "output_type": "execute_result"
    }
   ],
   "source": [
    "users.head()"
   ]
  },
  {
   "cell_type": "markdown",
   "id": "8e7ce2ca-bfa8-43d7-9eb7-c72e3ca87e1f",
   "metadata": {},
   "source": [
    "### Rating Features\n",
    "The ratings dataframe has 3 columns with the Dtypes: int64 for User-id, object for the ISBN, and int64 for the rating. It contains 1149780 entries.\n",
    "\n",
    "The ratings are out of 10."
   ]
  },
  {
   "cell_type": "code",
   "execution_count": 7,
   "id": "f2c928c7-ccc8-4a10-ac2a-744b224b43f7",
   "metadata": {},
   "outputs": [
    {
     "name": "stdout",
     "output_type": "stream",
     "text": [
      "<class 'pandas.core.frame.DataFrame'>\n",
      "RangeIndex: 1149780 entries, 0 to 1149779\n",
      "Data columns (total 3 columns):\n",
      " #   Column       Non-Null Count    Dtype \n",
      "---  ------       --------------    ----- \n",
      " 0   User-ID      1149780 non-null  int64 \n",
      " 1   ISBN         1149780 non-null  object\n",
      " 2   Book-Rating  1149780 non-null  int64 \n",
      "dtypes: int64(2), object(1)\n",
      "memory usage: 26.3+ MB\n"
     ]
    }
   ],
   "source": [
    "ratings.info()"
   ]
  },
  {
   "cell_type": "code",
   "execution_count": 8,
   "id": "54a1ffb7-e5cb-44d5-8dae-5cf993efcbfc",
   "metadata": {},
   "outputs": [
    {
     "data": {
      "text/html": [
       "<div>\n",
       "<style scoped>\n",
       "    .dataframe tbody tr th:only-of-type {\n",
       "        vertical-align: middle;\n",
       "    }\n",
       "\n",
       "    .dataframe tbody tr th {\n",
       "        vertical-align: top;\n",
       "    }\n",
       "\n",
       "    .dataframe thead th {\n",
       "        text-align: right;\n",
       "    }\n",
       "</style>\n",
       "<table border=\"1\" class=\"dataframe\">\n",
       "  <thead>\n",
       "    <tr style=\"text-align: right;\">\n",
       "      <th></th>\n",
       "      <th>User-ID</th>\n",
       "      <th>ISBN</th>\n",
       "      <th>Book-Rating</th>\n",
       "    </tr>\n",
       "  </thead>\n",
       "  <tbody>\n",
       "    <tr>\n",
       "      <th>0</th>\n",
       "      <td>276725</td>\n",
       "      <td>034545104X</td>\n",
       "      <td>0</td>\n",
       "    </tr>\n",
       "    <tr>\n",
       "      <th>1</th>\n",
       "      <td>276726</td>\n",
       "      <td>0155061224</td>\n",
       "      <td>5</td>\n",
       "    </tr>\n",
       "    <tr>\n",
       "      <th>2</th>\n",
       "      <td>276727</td>\n",
       "      <td>0446520802</td>\n",
       "      <td>0</td>\n",
       "    </tr>\n",
       "    <tr>\n",
       "      <th>3</th>\n",
       "      <td>276729</td>\n",
       "      <td>052165615X</td>\n",
       "      <td>3</td>\n",
       "    </tr>\n",
       "    <tr>\n",
       "      <th>4</th>\n",
       "      <td>276729</td>\n",
       "      <td>0521795028</td>\n",
       "      <td>6</td>\n",
       "    </tr>\n",
       "  </tbody>\n",
       "</table>\n",
       "</div>"
      ],
      "text/plain": [
       "   User-ID        ISBN  Book-Rating\n",
       "0   276725  034545104X            0\n",
       "1   276726  0155061224            5\n",
       "2   276727  0446520802            0\n",
       "3   276729  052165615X            3\n",
       "4   276729  0521795028            6"
      ]
     },
     "execution_count": 8,
     "metadata": {},
     "output_type": "execute_result"
    }
   ],
   "source": [
    "ratings.head()"
   ]
  },
  {
   "cell_type": "code",
   "execution_count": 9,
   "id": "16c1317c-8633-4b55-b893-bc7867b12a00",
   "metadata": {},
   "outputs": [
    {
     "name": "stdout",
     "output_type": "stream",
     "text": [
      "Rating scale: 0 to 10\n"
     ]
    }
   ],
   "source": [
    "max_rating = ratings['Book-Rating'].max()\n",
    "min_rating = ratings['Book-Rating'].min()\n",
    "\n",
    "print(f'Rating scale: {min_rating} to {max_rating}')"
   ]
  },
  {
   "cell_type": "markdown",
   "id": "ccc8445b-5480-437d-8f36-10ce2f9868d6",
   "metadata": {},
   "source": [
    "## Data Cleaning and Analysis\n",
    "Since this dataset needs extensive cleaning, it would be best to prefrom the cleaning before further analysis and visualization.\n",
    "\n",
    "### Drop images\n",
    "Drop the image columns from the books dataframe. Since the images are stored as url's it would be difficult to download each image to use for this project. Furthermore, since the focus is on similarily rated books, we won't lose too much data if we ignore the images."
   ]
  },
  {
   "cell_type": "code",
   "execution_count": 10,
   "id": "8d07e260-122c-47b6-8de3-2913df2fd5c0",
   "metadata": {},
   "outputs": [
    {
     "name": "stdout",
     "output_type": "stream",
     "text": [
      "<class 'pandas.core.frame.DataFrame'>\n",
      "RangeIndex: 271360 entries, 0 to 271359\n",
      "Data columns (total 5 columns):\n",
      " #   Column               Non-Null Count   Dtype \n",
      "---  ------               --------------   ----- \n",
      " 0   ISBN                 271360 non-null  object\n",
      " 1   Book-Title           271360 non-null  object\n",
      " 2   Book-Author          271358 non-null  object\n",
      " 3   Year-Of-Publication  271360 non-null  object\n",
      " 4   Publisher            271358 non-null  object\n",
      "dtypes: object(5)\n",
      "memory usage: 10.4+ MB\n"
     ]
    }
   ],
   "source": [
    "books = books.drop(['Image-URL-S','Image-URL-M','Image-URL-L'], axis=1)\n",
    "books.info()"
   ]
  },
  {
   "cell_type": "markdown",
   "id": "daf5a370-ae8b-4177-8d1a-71dd22b16c07",
   "metadata": {},
   "source": [
    "### Update Dtypes\n",
    "Update the Year-Of-Publication to an int value and shorten the name. First, since there were issues reading the data, list out the unique values so dirty rows can be dropped. "
   ]
  },
  {
   "cell_type": "code",
   "execution_count": 11,
   "id": "934c2d34-0a1d-4b69-a131-623ecb3eab49",
   "metadata": {},
   "outputs": [
    {
     "name": "stdout",
     "output_type": "stream",
     "text": [
      "['2002' '2001' '1991' '1999' '2000' '1993' '1996' '1988' '2004' '1998'\n",
      " '1994' '2003' '1997' '1983' '1979' '1995' '1982' '1985' '1992' '1986'\n",
      " '1978' '1980' '1952' '1987' '1990' '1981' '1989' '1984' '0' '1968' '1961'\n",
      " '1958' '1974' '1976' '1971' '1977' '1975' '1965' '1941' '1970' '1962'\n",
      " '1973' '1972' '1960' '1966' '1920' '1956' '1959' '1953' '1951' '1942'\n",
      " '1963' '1964' '1969' '1954' '1950' '1967' '2005' '1957' '1940' '1937'\n",
      " '1955' '1946' '1936' '1930' '2011' '1925' '1948' '1943' '1947' '1945'\n",
      " '1923' '2020' '1939' '1926' '1938' '2030' '1911' '1904' '1949' '1932'\n",
      " '1928' '1929' '1927' '1931' '1914' '2050' '1934' '1910' '1933' '1902'\n",
      " '1924' '1921' '1900' '2038' '2026' '1944' '1917' '1901' '2010' '1908'\n",
      " '1906' '1935' '1806' '2021' '2012' '2006' 'DK Publishing Inc' 'Gallimard'\n",
      " '1909' '2008' '1378' '1919' '1922' '1897' '2024' '1376' '2037']\n"
     ]
    }
   ],
   "source": [
    "print(books['Year-Of-Publication'].unique())"
   ]
  },
  {
   "cell_type": "markdown",
   "id": "4a06c0b4-5321-441d-af8c-e4f999226ff6",
   "metadata": {},
   "source": [
    "### Drop Outliers\n",
    "Drop the rows that contain the name of the publisher instead of the year. Also drop rows that contain outliers like Year-Of-Publication = 0."
   ]
  },
  {
   "cell_type": "code",
   "execution_count": 12,
   "id": "515e30dd-c502-4d56-aadc-d6709ce30460",
   "metadata": {},
   "outputs": [
    {
     "name": "stdout",
     "output_type": "stream",
     "text": [
      "['2002' '2001' '1991' '1999' '2000' '1993' '1996' '1988' '2004' '1998'\n",
      " '1994' '2003' '1997' '1983' '1979' '1995' '1982' '1985' '1992' '1986'\n",
      " '1978' '1980' '1952' '1987' '1990' '1981' '1989' '1984' '1968' '1961'\n",
      " '1958' '1974' '1976' '1971' '1977' '1975' '1965' '1941' '1970' '1962'\n",
      " '1973' '1972' '1960' '1966' '1920' '1956' '1959' '1953' '1951' '1942'\n",
      " '1963' '1964' '1969' '1954' '1950' '1967' '2005' '1957' '1940' '1937'\n",
      " '1955' '1946' '1936' '1930' '2011' '1925' '1948' '1943' '1947' '1945'\n",
      " '1923' '2020' '1939' '1926' '1938' '2030' '1911' '1904' '1949' '1932'\n",
      " '1928' '1929' '1927' '1931' '1914' '2050' '1934' '1910' '1933' '1902'\n",
      " '1924' '1921' '1900' '2038' '2026' '1944' '1917' '1901' '2010' '1908'\n",
      " '1906' '1935' '1806' '2021' '2012' '2006' '1909' '2008' '1378' '1919'\n",
      " '1922' '1897' '2024' '1376' '2037']\n"
     ]
    }
   ],
   "source": [
    "# Drop bad rows\n",
    "books = books[~books['Year-Of-Publication'].isin(['Gallimard', 'DK Publishing Inc', '0'])]\n",
    "\n",
    "# Rename features\n",
    "books = books.rename(columns={'ISBN': 'Book_ID', 'Year-Of-Publication': 'Year', 'Book-Title': 'Title', 'Book-Author': 'Author'})\n",
    "print(books['Year'].unique())"
   ]
  },
  {
   "cell_type": "code",
   "execution_count": 13,
   "id": "d19405c6-f7a5-4f01-a715-ae3758cb0cec",
   "metadata": {},
   "outputs": [
    {
     "name": "stdout",
     "output_type": "stream",
     "text": [
      "<class 'pandas.core.frame.DataFrame'>\n",
      "Index: 266739 entries, 0 to 271359\n",
      "Data columns (total 5 columns):\n",
      " #   Column     Non-Null Count   Dtype \n",
      "---  ------     --------------   ----- \n",
      " 0   Book_ID    266739 non-null  object\n",
      " 1   Title      266739 non-null  object\n",
      " 2   Author     266737 non-null  object\n",
      " 3   Year       266739 non-null  int64 \n",
      " 4   Publisher  266737 non-null  object\n",
      "dtypes: int64(1), object(4)\n",
      "memory usage: 12.2+ MB\n"
     ]
    }
   ],
   "source": [
    "# Update datatype\n",
    "books['Year'] = books['Year'].astype('int64')\n",
    "books.info()"
   ]
  },
  {
   "cell_type": "code",
   "execution_count": 14,
   "id": "e9232bcf-327e-4fc8-b9ea-eae016dbde31",
   "metadata": {},
   "outputs": [
    {
     "name": "stdout",
     "output_type": "stream",
     "text": [
      "Year range: 1376 to 2050\n"
     ]
    }
   ],
   "source": [
    "max_year = books['Year'].max()\n",
    "min_year = books['Year'].min()\n",
    "\n",
    "print(f'Year range: {min_year} to {max_year}')"
   ]
  },
  {
   "cell_type": "code",
   "execution_count": 15,
   "id": "5097896f-a3e1-4ae8-bcee-905fd9b83984",
   "metadata": {},
   "outputs": [
    {
     "name": "stdout",
     "output_type": "stream",
     "text": [
      "Year range: 1376 to 2024\n"
     ]
    }
   ],
   "source": [
    "# This project is being completed in 2024 so any year after 2024 is an outlier\n",
    "final_outliers = [i for i in range(2025, 2051)]\n",
    "\n",
    "# Drop bad rows\n",
    "books = books[~books['Year'].isin(final_outliers)]\n",
    "\n",
    "max_year = books['Year'].max()\n",
    "min_year = books['Year'].min()\n",
    "\n",
    "print(f'Year range: {min_year} to {max_year}')"
   ]
  },
  {
   "cell_type": "markdown",
   "id": "65786e24-8c84-4c0a-a9c9-3bb654e898af",
   "metadata": {},
   "source": [
    "### Update Users and Ratings\n",
    "Update ratings to reflect changes."
   ]
  },
  {
   "cell_type": "code",
   "execution_count": 16,
   "id": "120c6efb-d3d1-44ca-aea7-7ac547782062",
   "metadata": {},
   "outputs": [
    {
     "name": "stdout",
     "output_type": "stream",
     "text": [
      "<class 'pandas.core.frame.DataFrame'>\n",
      "RangeIndex: 1149780 entries, 0 to 1149779\n",
      "Data columns (total 3 columns):\n",
      " #   Column   Non-Null Count    Dtype \n",
      "---  ------   --------------    ----- \n",
      " 0   User_ID  1149780 non-null  int64 \n",
      " 1   Book_ID  1149780 non-null  object\n",
      " 2   Rating   1149780 non-null  int64 \n",
      "dtypes: int64(2), object(1)\n",
      "memory usage: 26.3+ MB\n"
     ]
    }
   ],
   "source": [
    "## Change column to match books\n",
    "ratings = ratings.rename(columns={'ISBN': 'Book_ID', 'Book-Rating': 'Rating', 'User-ID': 'User_ID'})\n",
    "ratings.info()"
   ]
  },
  {
   "cell_type": "markdown",
   "id": "96b3e74f-0a89-4630-af42-eb792baadca3",
   "metadata": {},
   "source": [
    "### Drop null values\n",
    "The books and users dataframes both contain null values.\n",
    "\n",
    "#### Books\n",
    "For books, since there are only 2 null values in author and 2 in publisher, it would be best to just drop those rows."
   ]
  },
  {
   "cell_type": "code",
   "execution_count": 17,
   "id": "edb436de-ab1c-41f6-92e5-a367d0c4493b",
   "metadata": {},
   "outputs": [
    {
     "data": {
      "text/plain": [
       "Book_ID      0\n",
       "Title        0\n",
       "Author       2\n",
       "Year         0\n",
       "Publisher    2\n",
       "dtype: int64"
      ]
     },
     "execution_count": 17,
     "metadata": {},
     "output_type": "execute_result"
    }
   ],
   "source": [
    "books.isnull().sum()"
   ]
  },
  {
   "cell_type": "code",
   "execution_count": 18,
   "id": "cf1c3b64-cdfb-42c0-aba6-0907e68677b8",
   "metadata": {},
   "outputs": [
    {
     "data": {
      "text/plain": [
       "Book_ID      0\n",
       "Title        0\n",
       "Author       0\n",
       "Year         0\n",
       "Publisher    0\n",
       "dtype: int64"
      ]
     },
     "execution_count": 18,
     "metadata": {},
     "output_type": "execute_result"
    }
   ],
   "source": [
    "books = books[books['Author'].notna()]\n",
    "books = books[books['Publisher'].notna()]\n",
    "books.isnull().sum()"
   ]
  },
  {
   "cell_type": "markdown",
   "id": "98426008-7bd3-4694-a2f7-e7d15081b1c4",
   "metadata": {},
   "source": [
    "#### Users\n",
    "Since there are 110762 null values in age too much data would be lost dropping those rows. Instead it makes for sense to drop the column."
   ]
  },
  {
   "cell_type": "code",
   "execution_count": 19,
   "id": "dc1342ca-9740-4e0f-973a-aaef9d7459b8",
   "metadata": {},
   "outputs": [
    {
     "data": {
      "text/plain": [
       "User_ID          0\n",
       "Location         0\n",
       "Age         110762\n",
       "dtype: int64"
      ]
     },
     "execution_count": 19,
     "metadata": {},
     "output_type": "execute_result"
    }
   ],
   "source": [
    "users = users.rename(columns={'User-ID': 'User_ID'})\n",
    "users.isnull().sum()"
   ]
  },
  {
   "cell_type": "code",
   "execution_count": 20,
   "id": "b423d802-1ab4-4ad4-85ce-b168c326bb05",
   "metadata": {},
   "outputs": [
    {
     "data": {
      "text/plain": [
       "User_ID     0\n",
       "Location    0\n",
       "dtype: int64"
      ]
     },
     "execution_count": 20,
     "metadata": {},
     "output_type": "execute_result"
    }
   ],
   "source": [
    "users = users.drop(['Age'],axis=1)\n",
    "users.isnull().sum()"
   ]
  },
  {
   "cell_type": "code",
   "execution_count": 21,
   "id": "e3322ae3-2216-4653-92a2-d19b4a531d5e",
   "metadata": {},
   "outputs": [
    {
     "data": {
      "text/plain": [
       "User_ID    0\n",
       "Book_ID    0\n",
       "Rating     0\n",
       "dtype: int64"
      ]
     },
     "execution_count": 21,
     "metadata": {},
     "output_type": "execute_result"
    }
   ],
   "source": [
    "ratings.isnull().sum()"
   ]
  },
  {
   "cell_type": "code",
   "execution_count": 22,
   "id": "541e9359-eae2-4fcb-8f39-c8cd311dabe1",
   "metadata": {},
   "outputs": [
    {
     "name": "stdout",
     "output_type": "stream",
     "text": [
      "<class 'pandas.core.frame.DataFrame'>\n",
      "Index: 1017066 entries, 0 to 1149778\n",
      "Data columns (total 3 columns):\n",
      " #   Column   Non-Null Count    Dtype \n",
      "---  ------   --------------    ----- \n",
      " 0   User_ID  1017066 non-null  int64 \n",
      " 1   Book_ID  1017066 non-null  object\n",
      " 2   Rating   1017066 non-null  int64 \n",
      "dtypes: int64(2), object(1)\n",
      "memory usage: 31.0+ MB\n"
     ]
    }
   ],
   "source": [
    "# Drop missing books from ratings\n",
    "ratings = ratings[ratings['Book_ID'].isin(books['Book_ID'].unique())]\n",
    "ratings.info()"
   ]
  },
  {
   "cell_type": "markdown",
   "id": "9c1f9c4f-d06b-4363-8a1b-d814156a2cd5",
   "metadata": {},
   "source": [
    "### Remove Inactive Users\n",
    "Remove users who have rated less than 5 books"
   ]
  },
  {
   "cell_type": "code",
   "execution_count": 23,
   "id": "4b237d9b-8960-49fc-a53b-0261b7b3650e",
   "metadata": {},
   "outputs": [],
   "source": [
    "user_ratings = ratings['User_ID'].value_counts() > 10\n",
    "user_ids = user_ratings[user_ratings].index\n",
    "user_ids = user_ids.unique()"
   ]
  },
  {
   "cell_type": "code",
   "execution_count": 24,
   "id": "dee88f9b-2c75-4f5f-9f58-a28f3ecdef34",
   "metadata": {},
   "outputs": [
    {
     "name": "stdout",
     "output_type": "stream",
     "text": [
      "<class 'pandas.core.frame.DataFrame'>\n",
      "Index: 10718 entries, 7 to 278850\n",
      "Data columns (total 2 columns):\n",
      " #   Column    Non-Null Count  Dtype \n",
      "---  ------    --------------  ----- \n",
      " 0   User_ID   10718 non-null  int64 \n",
      " 1   Location  10718 non-null  object\n",
      "dtypes: int64(1), object(1)\n",
      "memory usage: 251.2+ KB\n"
     ]
    }
   ],
   "source": [
    "users = users[users['User_ID'].isin(user_ids)]\n",
    "users.info()"
   ]
  },
  {
   "cell_type": "code",
   "execution_count": 25,
   "id": "9c5ad031-ac21-4e53-97a6-12db37b07ffe",
   "metadata": {},
   "outputs": [],
   "source": [
    "ratings = ratings[ratings['User_ID'].isin(users['User_ID'])] "
   ]
  },
  {
   "cell_type": "markdown",
   "id": "d013d850-5bfb-4791-8930-a7de8169db87",
   "metadata": {},
   "source": [
    "## Correlation\n",
    "There will likely be a correlation between the number of books a user has rated and that user's average rating. For example some users might only rate books they enjoy, so their rating list will be smaller while containing a high number of positive values. This can be visualized using a pairplot."
   ]
  },
  {
   "cell_type": "code",
   "execution_count": 26,
   "id": "ac88d505-b713-4d31-b2da-7e31d3052b6c",
   "metadata": {},
   "outputs": [],
   "source": [
    "ave_ratings = []\n",
    "zeros = []\n",
    "aves = []\n",
    "\n",
    "for usr in user_ids:\n",
    "    usr_ratings = ratings[ratings['User_ID'].isin([usr])]\n",
    "    usr_ratings = usr_ratings[usr_ratings['Rating'] > 0]['Rating'].tolist()\n",
    "    ave = sum(usr_ratings)/len(usr_ratings) if len(usr_ratings) > 0 else 0\n",
    "    if ave > 0:\n",
    "        ave_ratings.append(usr_ratings)\n",
    "        aves.append(sum(usr_ratings)/len(usr_ratings) if len(usr_ratings) > 0 else 0)\n",
    "    else:\n",
    "        zeros.append(usr)"
   ]
  },
  {
   "cell_type": "code",
   "execution_count": 27,
   "id": "1c16ab66-38d0-45a8-9071-f3f69a9870bd",
   "metadata": {},
   "outputs": [],
   "source": [
    "users = users[~users['User_ID'].isin(zeros)]\n",
    "ratings = ratings[~ratings['User_ID'].isin(zeros)] "
   ]
  },
  {
   "cell_type": "code",
   "execution_count": 28,
   "id": "2a968287-1ae5-4865-886a-0c0c2c095dba",
   "metadata": {},
   "outputs": [
    {
     "name": "stdout",
     "output_type": "stream",
     "text": [
      "0\n"
     ]
    },
    {
     "data": {
      "text/html": [
       "<div>\n",
       "<style scoped>\n",
       "    .dataframe tbody tr th:only-of-type {\n",
       "        vertical-align: middle;\n",
       "    }\n",
       "\n",
       "    .dataframe tbody tr th {\n",
       "        vertical-align: top;\n",
       "    }\n",
       "\n",
       "    .dataframe thead th {\n",
       "        text-align: right;\n",
       "    }\n",
       "</style>\n",
       "<table border=\"1\" class=\"dataframe\">\n",
       "  <thead>\n",
       "    <tr style=\"text-align: right;\">\n",
       "      <th></th>\n",
       "      <th>User_ID</th>\n",
       "      <th>Location</th>\n",
       "      <th>Average</th>\n",
       "    </tr>\n",
       "  </thead>\n",
       "  <tbody>\n",
       "    <tr>\n",
       "      <th>7</th>\n",
       "      <td>8</td>\n",
       "      <td>timmins, ontario, canada</td>\n",
       "      <td>7.361103</td>\n",
       "    </tr>\n",
       "    <tr>\n",
       "      <th>98</th>\n",
       "      <td>99</td>\n",
       "      <td>franktown, colorado, usa</td>\n",
       "      <td>7.235294</td>\n",
       "    </tr>\n",
       "    <tr>\n",
       "      <th>241</th>\n",
       "      <td>242</td>\n",
       "      <td>neuffen, baden-wuerttemberg, germany</td>\n",
       "      <td>8.666667</td>\n",
       "    </tr>\n",
       "    <tr>\n",
       "      <th>242</th>\n",
       "      <td>243</td>\n",
       "      <td>arden hills, minnesota, usa</td>\n",
       "      <td>8.862190</td>\n",
       "    </tr>\n",
       "    <tr>\n",
       "      <th>253</th>\n",
       "      <td>254</td>\n",
       "      <td>minneapolis, minnesota, usa</td>\n",
       "      <td>7.565445</td>\n",
       "    </tr>\n",
       "  </tbody>\n",
       "</table>\n",
       "</div>"
      ],
      "text/plain": [
       "     User_ID                              Location   Average\n",
       "7          8              timmins, ontario, canada  7.361103\n",
       "98        99              franktown, colorado, usa  7.235294\n",
       "241      242  neuffen, baden-wuerttemberg, germany  8.666667\n",
       "242      243           arden hills, minnesota, usa  8.862190\n",
       "253      254           minneapolis, minnesota, usa  7.565445"
      ]
     },
     "execution_count": 28,
     "metadata": {},
     "output_type": "execute_result"
    }
   ],
   "source": [
    "users['Average'] = aves\n",
    "users = users[users['Average'] != 0.0]\n",
    "print(ratings['Rating'].min())\n",
    "\n",
    "users.head()"
   ]
  },
  {
   "cell_type": "code",
   "execution_count": 29,
   "id": "8185cba5-1b42-41f4-88e7-ab14026ff94b",
   "metadata": {},
   "outputs": [
    {
     "data": {
      "text/html": [
       "<div>\n",
       "<style scoped>\n",
       "    .dataframe tbody tr th:only-of-type {\n",
       "        vertical-align: middle;\n",
       "    }\n",
       "\n",
       "    .dataframe tbody tr th {\n",
       "        vertical-align: top;\n",
       "    }\n",
       "\n",
       "    .dataframe thead th {\n",
       "        text-align: right;\n",
       "    }\n",
       "</style>\n",
       "<table border=\"1\" class=\"dataframe\">\n",
       "  <thead>\n",
       "    <tr style=\"text-align: right;\">\n",
       "      <th></th>\n",
       "      <th>Frequency</th>\n",
       "      <th>Rating</th>\n",
       "    </tr>\n",
       "  </thead>\n",
       "  <tbody>\n",
       "    <tr>\n",
       "      <th>0</th>\n",
       "      <td>6782</td>\n",
       "      <td>7.361103</td>\n",
       "    </tr>\n",
       "    <tr>\n",
       "      <th>1</th>\n",
       "      <td>17</td>\n",
       "      <td>7.235294</td>\n",
       "    </tr>\n",
       "    <tr>\n",
       "      <th>2</th>\n",
       "      <td>1833</td>\n",
       "      <td>8.666667</td>\n",
       "    </tr>\n",
       "    <tr>\n",
       "      <th>3</th>\n",
       "      <td>5689</td>\n",
       "      <td>8.862190</td>\n",
       "    </tr>\n",
       "    <tr>\n",
       "      <th>4</th>\n",
       "      <td>764</td>\n",
       "      <td>7.565445</td>\n",
       "    </tr>\n",
       "  </tbody>\n",
       "</table>\n",
       "</div>"
      ],
      "text/plain": [
       "   Frequency    Rating\n",
       "0       6782  7.361103\n",
       "1         17  7.235294\n",
       "2       1833  8.666667\n",
       "3       5689  8.862190\n",
       "4        764  7.565445"
      ]
     },
     "execution_count": 29,
     "metadata": {},
     "output_type": "execute_result"
    }
   ],
   "source": [
    "frequency = [len(i) for i in ave_ratings]\n",
    "rating_frequency = pd.DataFrame()\n",
    "rating_frequency['Frequency'] = frequency\n",
    "rating_frequency['Rating'] = users['Average'].tolist()\n",
    "\n",
    "rating_frequency.head()"
   ]
  },
  {
   "cell_type": "code",
   "execution_count": 30,
   "id": "41884a2d-a7bf-49b0-befe-a0ed9b165d14",
   "metadata": {},
   "outputs": [
    {
     "data": {
      "text/plain": [
       "<seaborn.axisgrid.PairGrid at 0x7fa5f9f2c6d0>"
      ]
     },
     "execution_count": 30,
     "metadata": {},
     "output_type": "execute_result"
    },
    {
     "data": {
      "image/png": "[encoded data removed]",
      "text/plain": [
       "<Figure size 500x500 with 6 Axes>"
      ]
     },
     "metadata": {},
     "output_type": "display_data"
    }
   ],
   "source": [
    "sb.pairplot(rating_frequency)"
   ]
  },
  {
   "cell_type": "markdown",
   "id": "49698bbe-a6b8-490a-96c0-72e7ced66ed6",
   "metadata": {},
   "source": [
    "#### Correlation Result\n",
    "Looking at the pair plot, it is clear that there is a correlation between the number of books a user has rated and the user's average rating."
   ]
  },
  {
   "cell_type": "markdown",
   "id": "8453aa8b-ef4e-4b55-baf2-6c013fb5e4da",
   "metadata": {},
   "source": [
    "## Data Visualization And Transformation\n",
    "Use plots to show the distribution of the different features. These plots will help determine how to scale the data, and what data can be removed."
   ]
  },
  {
   "cell_type": "markdown",
   "id": "83ffd45a-16f8-4b2e-b888-065079e62d1f",
   "metadata": {},
   "source": [
    "### Rating distribution\n",
    "Plot the rating distribution"
   ]
  },
  {
   "cell_type": "code",
   "execution_count": 31,
   "id": "35c8e677-a91c-46d3-9931-32c7241e3efa",
   "metadata": {},
   "outputs": [
    {
     "data": {
      "image/png": "[encoded data removed]",
      "text/plain": [
       "<seaborn._core.plot.Plot at 0x7fa62c37efa0>"
      ]
     },
     "execution_count": 31,
     "metadata": {
      "image/png": {
       "height": 378.25,
       "width": 509.15
      }
     },
     "output_type": "execute_result"
    }
   ],
   "source": [
    "so.Plot(ratings, \"Rating\").add(so.Bar(), so.Hist(binwidth=1, discrete=True))"
   ]
  },
  {
   "cell_type": "markdown",
   "id": "7125f8c5-34c8-4a3e-b2bb-de52129c1b0e",
   "metadata": {},
   "source": [
    "#### Zero Values\n",
    "Looking at the difference between the number of zero ratings compared to the rest, it is safe to assume zero stands for books that were not rated by a user. "
   ]
  },
  {
   "cell_type": "code",
   "execution_count": 32,
   "id": "25798b4b-5e40-4239-8de9-155a7314e3fe",
   "metadata": {},
   "outputs": [
    {
     "data": {
      "image/png": "[encoded data removed]",
      "text/plain": [
       "<seaborn._core.plot.Plot at 0x7fa62a9256a0>"
      ]
     },
     "execution_count": 32,
     "metadata": {
      "image/png": {
       "height": 378.25,
       "width": 509.15
      }
     },
     "output_type": "execute_result"
    }
   ],
   "source": [
    "non_zero_ratings = ratings[~ratings['Rating'].isin([0])]\n",
    "so.Plot(non_zero_ratings, \"Rating\").add(so.Bar(), so.Hist(binwidth=1, discrete=True))"
   ]
  },
  {
   "cell_type": "markdown",
   "id": "546bd158-48fb-40c3-9b10-e269cf60568c",
   "metadata": {},
   "source": [
    "### Year Distribution\n",
    "Plot the rating distribution"
   ]
  },
  {
   "cell_type": "code",
   "execution_count": 33,
   "id": "beebc381-922b-4704-81fe-7de107aa8e40",
   "metadata": {},
   "outputs": [
    {
     "data": {
      "image/png": "[encoded data removed]",
      "text/plain": [
       "<seaborn._core.plot.Plot at 0x7fa62d032940>"
      ]
     },
     "execution_count": 33,
     "metadata": {
      "image/png": {
       "height": 378.25,
       "width": 509.15
      }
     },
     "output_type": "execute_result"
    }
   ],
   "source": [
    "so.Plot(books, \"Year\").add(so.Bar(), so.Hist(binwidth=1, discrete=True))"
   ]
  },
  {
   "cell_type": "markdown",
   "id": "c0431edf-e6bc-443d-a110-000187f4d1cf",
   "metadata": {},
   "source": [
    "#### After 1900\n",
    "Create another plot for the range 1900 to 2025 since the vast majority of books were published in that time period."
   ]
  },
  {
   "cell_type": "code",
   "execution_count": 34,
   "id": "336f3c88-1868-4c0d-9c7b-1d437f736b24",
   "metadata": {},
   "outputs": [
    {
     "data": {
      "image/png": "[encoded data removed]",
      "text/plain": [
       "<seaborn._core.plot.Plot at 0x7fa62d024040>"
      ]
     },
     "execution_count": 34,
     "metadata": {
      "image/png": {
       "height": 378.25,
       "width": 509.15
      }
     },
     "output_type": "execute_result"
    }
   ],
   "source": [
    "years_compact = books[books['Year'].isin([i for i in range(1900,2025)])]\n",
    "so.Plot(years_compact, \"Year\").add(so.Bar(), so.Hist(binwidth=1, discrete=True))"
   ]
  },
  {
   "cell_type": "markdown",
   "id": "bb6b2684-d22f-4e40-bf95-803a70c06b68",
   "metadata": {},
   "source": [
    "### Publisher Distribution\n",
    "Plot the publisher distribution. First get a snapshot of what the different publisher values are since the number of publishers is so large. Looking at the results, it is clear that some publishers are actually the same, just with different capitalization or punctuation."
   ]
  },
  {
   "cell_type": "code",
   "execution_count": 35,
   "id": "d2153225-0cd7-42e1-aa85-3946baf8d54b",
   "metadata": {},
   "outputs": [
    {
     "name": "stdout",
     "output_type": "stream",
     "text": [
      "Unique publishers:  16393\n"
     ]
    }
   ],
   "source": [
    "pubs = books['Publisher'].unique()\n",
    "print('Unique publishers: ',len(pubs))"
   ]
  },
  {
   "cell_type": "code",
   "execution_count": 36,
   "id": "07257a95-f5e7-4fe2-848d-38a15bcdbac2",
   "metadata": {},
   "outputs": [
    {
     "data": {
      "text/plain": [
       "array([' Editions P. Terrail', ' Tri-State Press', \"'K' Pub\",\n",
       "       '(3 Queen Sq., WC1N 3AU), Faber and Faber Ltd',\n",
       "       '(49 Poland St., W.1), BPC Unit 75', '10-18', '10/18', '10/18 UGE',\n",
       "       '10/18 Uge', '1001 nuits', '101 Productions',\n",
       "       '101 Productions; [distributed by Scribner, New York]',\n",
       "       '101 Productions; distributed by Scribner, New York',\n",
       "       '10K Gold Promotions', '10x18', '11/9 Publishing',\n",
       "       '1stBooks Library', '2 13 61', '2.13.61 Publications', '219 Press',\n",
       "       '21st Century', '21st Century Information', '21st Century Press',\n",
       "       '21st Century Publications', '22/7 Publishing Company',\n",
       "       '22nd. Century, New York', '29th Street Press',\n",
       "       '2nd Avenue Publishing, Inc.', '3', '3 S Fitness Group Ltd',\n",
       "       '30 Day Gourmet Press', '300Incredible.com', '300incredible.com',\n",
       "       '37547', '3D Press', '3H Productions, Inc.', '3f Publications',\n",
       "       '3rd Bed', '3rd Woman Press', '5 Star Publications',\n",
       "       '7 i Mig Editorial', '7 i Mig editorial de poesia',\n",
       "       'A &amp; B Book Dist Inc', 'A &amp; B Distributors',\n",
       "       'A &amp; C Black (Publishers) Ltd', 'A &amp; W Pub',\n",
       "       'A &amp; W Visual Library', 'A C P Pub Pty Ltd',\n",
       "       'A Crossings Book Club Edition',\n",
       "       'A Different Voice Publishing Co.'], dtype=object)"
      ]
     },
     "execution_count": 36,
     "metadata": {},
     "output_type": "execute_result"
    }
   ],
   "source": [
    "pubs.sort()\n",
    "pubs[:50]"
   ]
  },
  {
   "cell_type": "code",
   "execution_count": 37,
   "id": "96f2641e-36cb-4dea-a21a-332c4075033b",
   "metadata": {},
   "outputs": [
    {
     "name": "stdout",
     "output_type": "stream",
     "text": [
      "Unique publishers:  15722\n",
      "Number of books:  266723\n"
     ]
    }
   ],
   "source": [
    "# Make everything lower case\n",
    "books['Publisher'] = books['Publisher'].str.lower()\n",
    "\n",
    "# remove punctuation\n",
    "processed = []\n",
    "for pub in books['Publisher']:\n",
    "    stripped_pub = pub.translate(str.maketrans('','',\"@#$%^*<>!ãâ¶©,.Ã?Âª/\\?-~();:&[]{}' \"))\n",
    "    stripped_pub = stripped_pub.replace(\" \", \"\")\n",
    "    processed.append(stripped_pub)\n",
    "\n",
    "books['Publisher'] = processed\n",
    "\n",
    "pubs = books['Publisher'].unique()\n",
    "print('Unique publishers: ',len(pubs))\n",
    "print('Number of books: ',len(books))"
   ]
  },
  {
   "cell_type": "code",
   "execution_count": 38,
   "id": "8e1bc27b-ed0d-4c44-8b14-13e5f45df82c",
   "metadata": {},
   "outputs": [
    {
     "data": {
      "text/plain": [
       "array(['1001nuits', '1018', '1018uge', '101productions',\n",
       "       '101productionsdistributedbyscribnernewyork', '10kgoldpromotions',\n",
       "       '10x18', '119publishing', '1stbookslibrary', '21361',\n",
       "       '21361publications', '219press', '21stcentury',\n",
       "       '21stcenturyinformation', '21stcenturypress',\n",
       "       '21stcenturypublications', '227publishingcompany',\n",
       "       '22ndcenturynewyork', '29thstreetpress', '2ndavenuepublishinginc',\n",
       "       '3', '300incrediblecom', '30daygourmetpress', '37547', '3dpress',\n",
       "       '3fpublications', '3hproductionsinc',\n",
       "       '3queensqwc1n3aufaberandfaberltd', '3rdbed', '3rdwomanpress',\n",
       "       '3sfitnessgroupltd', '49polandstw1bpcunit75', '5starpublications',\n",
       "       '7imigeditorial', '7imigeditorialdepoesia', 'aaa', 'aaaipress',\n",
       "       'aaaroadatlas', 'aahhabooksinc', 'aaknopf', 'aalidabookpublishers',\n",
       "       'aampafarmar', 'aampbbookdistinc', 'aampbdistributors',\n",
       "       'aampbpublishersgroup', 'aampcblack', 'aampcblackltd',\n",
       "       'aampcblackpublishersltd', 'aampmmuchnik', 'aamprclassics'],\n",
       "      dtype=object)"
      ]
     },
     "execution_count": 38,
     "metadata": {},
     "output_type": "execute_result"
    }
   ],
   "source": [
    "pubs.sort()\n",
    "pubs[:50]"
   ]
  },
  {
   "cell_type": "markdown",
   "id": "2133702f-710d-4a22-b7f2-e127ec2a6429",
   "metadata": {},
   "source": [
    "#### Updated Publishers\n",
    "This only reduced the list by 671 entries, so the data is still to big to plot in a single graph. Instead examine the range of the frequency of the different publishers. Looking at the results, "
   ]
  },
  {
   "cell_type": "code",
   "execution_count": 39,
   "id": "67437848-ebe2-4240-aea0-37dc889aeb22",
   "metadata": {},
   "outputs": [],
   "source": [
    "pub_names = []\n",
    "pub_count = []\n",
    "\n",
    "for pub in pubs:\n",
    "    rows = books[books['Publisher'].isin([pub])]\n",
    "    count = len(rows)\n",
    "    pub_count.append(count)\n",
    "    pub_names.append(pub)\n",
    "\n",
    "pub_df = pd.DataFrame()\n",
    "pub_df['Name'] = pub_names\n",
    "pub_df['Count'] = pub_count"
   ]
  },
  {
   "cell_type": "code",
   "execution_count": 40,
   "id": "e808af3b-ddf0-4529-9101-b469d25ce20b",
   "metadata": {},
   "outputs": [
    {
     "data": {
      "text/html": [
       "<div>\n",
       "<style scoped>\n",
       "    .dataframe tbody tr th:only-of-type {\n",
       "        vertical-align: middle;\n",
       "    }\n",
       "\n",
       "    .dataframe tbody tr th {\n",
       "        vertical-align: top;\n",
       "    }\n",
       "\n",
       "    .dataframe thead th {\n",
       "        text-align: right;\n",
       "    }\n",
       "</style>\n",
       "<table border=\"1\" class=\"dataframe\">\n",
       "  <thead>\n",
       "    <tr style=\"text-align: right;\">\n",
       "      <th></th>\n",
       "      <th>Name</th>\n",
       "      <th>Count</th>\n",
       "    </tr>\n",
       "  </thead>\n",
       "  <tbody>\n",
       "    <tr>\n",
       "      <th>6205</th>\n",
       "      <td>harlequin</td>\n",
       "      <td>7536</td>\n",
       "    </tr>\n",
       "    <tr>\n",
       "      <th>12842</th>\n",
       "      <td>silhouette</td>\n",
       "      <td>4220</td>\n",
       "    </tr>\n",
       "    <tr>\n",
       "      <th>11093</th>\n",
       "      <td>pocket</td>\n",
       "      <td>3870</td>\n",
       "    </tr>\n",
       "    <tr>\n",
       "      <th>1269</th>\n",
       "      <td>ballantinebooks</td>\n",
       "      <td>3764</td>\n",
       "    </tr>\n",
       "    <tr>\n",
       "      <th>1303</th>\n",
       "      <td>bantambooks</td>\n",
       "      <td>3644</td>\n",
       "    </tr>\n",
       "  </tbody>\n",
       "</table>\n",
       "</div>"
      ],
      "text/plain": [
       "                  Name  Count\n",
       "6205         harlequin   7536\n",
       "12842       silhouette   4220\n",
       "11093           pocket   3870\n",
       "1269   ballantinebooks   3764\n",
       "1303       bantambooks   3644"
      ]
     },
     "execution_count": 40,
     "metadata": {},
     "output_type": "execute_result"
    }
   ],
   "source": [
    "pub_df = pub_df.sort_values('Count', ascending=False)\n",
    "pub_df.head()"
   ]
  },
  {
   "cell_type": "markdown",
   "id": "28645f07-85f4-4b6d-b110-2be7a7743c92",
   "metadata": {},
   "source": [
    "#### Plot the frequency\n",
    "Plot the distribution of the frequency of the different publishers. Most publishers only appear in the data set once or twice. This means that Publisher likely will not be a very useful feature and can be dropped."
   ]
  },
  {
   "cell_type": "code",
   "execution_count": 41,
   "id": "c3b15457-6005-43f3-9918-4a2e976c3f1c",
   "metadata": {},
   "outputs": [
    {
     "data": {
      "image/png": "[encoded data removed]",
      "text/plain": [
       "<seaborn._core.plot.Plot at 0x7fa60c626f70>"
      ]
     },
     "execution_count": 41,
     "metadata": {
      "image/png": {
       "height": 378.25,
       "width": 509.15
      }
     },
     "output_type": "execute_result"
    }
   ],
   "source": [
    "counts = pub_df['Count'].unique()\n",
    "so.Plot(counts).add(so.Bar(), so.Hist())"
   ]
  },
  {
   "cell_type": "code",
   "execution_count": 42,
   "id": "f852446f-96cd-41a4-8071-64b1c2e7cfaa",
   "metadata": {},
   "outputs": [
    {
     "name": "stdout",
     "output_type": "stream",
     "text": [
      "<class 'pandas.core.frame.DataFrame'>\n",
      "Index: 266723 entries, 0 to 271359\n",
      "Data columns (total 4 columns):\n",
      " #   Column   Non-Null Count   Dtype \n",
      "---  ------   --------------   ----- \n",
      " 0   Book_ID  266723 non-null  object\n",
      " 1   Title    266723 non-null  object\n",
      " 2   Author   266723 non-null  object\n",
      " 3   Year     266723 non-null  int64 \n",
      "dtypes: int64(1), object(3)\n",
      "memory usage: 18.2+ MB\n"
     ]
    }
   ],
   "source": [
    "books = books.drop(['Publisher'],axis=1)\n",
    "books.info()"
   ]
  },
  {
   "cell_type": "markdown",
   "id": "f3d5357e-fdf5-4bc1-90b9-78672afa0409",
   "metadata": {},
   "source": [
    "#### Author\n",
    "The same procedure can be done with the Author column. Looking at how many unique athours there are, this likely will not be a useful feature to keep."
   ]
  },
  {
   "cell_type": "code",
   "execution_count": 43,
   "id": "d4445f7d-dbeb-4c58-87ea-34fc44544865",
   "metadata": {},
   "outputs": [
    {
     "name": "stdout",
     "output_type": "stream",
     "text": [
      "Unique Author:  100665\n"
     ]
    }
   ],
   "source": [
    "auths = books['Author'].unique()\n",
    "print('Unique Author: ',len(auths))"
   ]
  },
  {
   "cell_type": "code",
   "execution_count": 44,
   "id": "4bfd791b-bd6a-468c-868e-e561ea3609d3",
   "metadata": {},
   "outputs": [
    {
     "name": "stdout",
     "output_type": "stream",
     "text": [
      "Unique Authors:  95760\n",
      "Number of books:  266723\n"
     ]
    }
   ],
   "source": [
    "# Make everything lower case\n",
    "books['Author'] = books['Author'].str.lower()\n",
    "\n",
    "# remove punctuation\n",
    "processed = []\n",
    "for auth in books['Author']:\n",
    "    stripped_auth = auth.translate(str.maketrans('','',\"@#$%^*<>!ãâ¶©,.Ã?Âª/\\?-~();:&[]{}' \"))\n",
    "    stripped_auth = stripped_auth.replace(\" \", \"\")\n",
    "    processed.append(stripped_auth)\n",
    "\n",
    "books['Author'] = processed\n",
    "\n",
    "auths = books['Author'].unique()\n",
    "print('Unique Authors: ',len(auths))\n",
    "print('Number of books: ',len(books))"
   ]
  },
  {
   "cell_type": "code",
   "execution_count": 45,
   "id": "9ed8a3d9-f3dc-42d4-8194-3ffbac8f9398",
   "metadata": {},
   "outputs": [],
   "source": [
    "auth_names = []\n",
    "auth_count = []\n",
    "\n",
    "for auth in auths:\n",
    "    rows = books[books['Author'].isin([auth])]\n",
    "    count = len(rows)\n",
    "    auth_count.append(count)\n",
    "    auth_names.append(auth)\n",
    "\n",
    "auth_df = pd.DataFrame()\n",
    "auth_df['Name'] = auth_names\n",
    "auth_df['Count'] = auth_count"
   ]
  },
  {
   "cell_type": "code",
   "execution_count": 46,
   "id": "39c09782-fedf-4201-bdf3-1360a0b0e06a",
   "metadata": {},
   "outputs": [
    {
     "data": {
      "text/html": [
       "<div>\n",
       "<style scoped>\n",
       "    .dataframe tbody tr th:only-of-type {\n",
       "        vertical-align: middle;\n",
       "    }\n",
       "\n",
       "    .dataframe tbody tr th {\n",
       "        vertical-align: top;\n",
       "    }\n",
       "\n",
       "    .dataframe thead th {\n",
       "        text-align: right;\n",
       "    }\n",
       "</style>\n",
       "<table border=\"1\" class=\"dataframe\">\n",
       "  <thead>\n",
       "    <tr style=\"text-align: right;\">\n",
       "      <th></th>\n",
       "      <th>Name</th>\n",
       "      <th>Count</th>\n",
       "    </tr>\n",
       "  </thead>\n",
       "  <tbody>\n",
       "    <tr>\n",
       "      <th>732</th>\n",
       "      <td>agathachristie</td>\n",
       "      <td>602</td>\n",
       "    </tr>\n",
       "    <tr>\n",
       "      <th>316</th>\n",
       "      <td>williamshakespeare</td>\n",
       "      <td>565</td>\n",
       "    </tr>\n",
       "    <tr>\n",
       "      <th>116</th>\n",
       "      <td>stephenking</td>\n",
       "      <td>521</td>\n",
       "    </tr>\n",
       "    <tr>\n",
       "      <th>1762</th>\n",
       "      <td>annmmartin</td>\n",
       "      <td>428</td>\n",
       "    </tr>\n",
       "    <tr>\n",
       "      <th>1142</th>\n",
       "      <td>rlstine</td>\n",
       "      <td>423</td>\n",
       "    </tr>\n",
       "  </tbody>\n",
       "</table>\n",
       "</div>"
      ],
      "text/plain": [
       "                    Name  Count\n",
       "732       agathachristie    602\n",
       "316   williamshakespeare    565\n",
       "116          stephenking    521\n",
       "1762          annmmartin    428\n",
       "1142             rlstine    423"
      ]
     },
     "execution_count": 46,
     "metadata": {},
     "output_type": "execute_result"
    }
   ],
   "source": [
    "auth_df = auth_df.sort_values('Count', ascending=False)\n",
    "auth_df.head()"
   ]
  },
  {
   "cell_type": "code",
   "execution_count": 47,
   "id": "04ff153d-d0e7-431e-a009-232d04f54f0b",
   "metadata": {},
   "outputs": [
    {
     "data": {
      "image/png": "[encoded data removed]",
      "text/plain": [
       "<seaborn._core.plot.Plot at 0x7fa5ba56b6a0>"
      ]
     },
     "execution_count": 47,
     "metadata": {
      "image/png": {
       "height": 378.25,
       "width": 509.15
      }
     },
     "output_type": "execute_result"
    }
   ],
   "source": [
    "counts = auth_df['Count'].unique()\n",
    "len(counts)\n",
    "so.Plot(counts).add(so.Bar(), so.Hist())"
   ]
  },
  {
   "cell_type": "code",
   "execution_count": 48,
   "id": "8983e357-bb20-4283-b8dc-7da4c7f18344",
   "metadata": {},
   "outputs": [
    {
     "name": "stdout",
     "output_type": "stream",
     "text": [
      "<class 'pandas.core.frame.DataFrame'>\n",
      "Index: 266723 entries, 0 to 271359\n",
      "Data columns (total 3 columns):\n",
      " #   Column   Non-Null Count   Dtype \n",
      "---  ------   --------------   ----- \n",
      " 0   Book_ID  266723 non-null  object\n",
      " 1   Title    266723 non-null  object\n",
      " 2   Year     266723 non-null  int64 \n",
      "dtypes: int64(1), object(2)\n",
      "memory usage: 16.2+ MB\n"
     ]
    }
   ],
   "source": [
    "books = books.drop(['Author'],axis=1)\n",
    "books.info()"
   ]
  },
  {
   "cell_type": "markdown",
   "id": "b200297d-77ad-46eb-bc5f-266012c6d8b8",
   "metadata": {},
   "source": [
    "### Title\n",
    "Since the Book_id feature already takes care of identifying unique books, Title can be dropped."
   ]
  },
  {
   "cell_type": "code",
   "execution_count": 49,
   "id": "3ea7e007-eb70-4fc8-9640-83e9b224093f",
   "metadata": {},
   "outputs": [
    {
     "name": "stdout",
     "output_type": "stream",
     "text": [
      "<class 'pandas.core.frame.DataFrame'>\n",
      "Index: 266723 entries, 0 to 271359\n",
      "Data columns (total 2 columns):\n",
      " #   Column   Non-Null Count   Dtype \n",
      "---  ------   --------------   ----- \n",
      " 0   Book_ID  266723 non-null  object\n",
      " 1   Year     266723 non-null  int64 \n",
      "dtypes: int64(1), object(1)\n",
      "memory usage: 14.2+ MB\n"
     ]
    }
   ],
   "source": [
    "books = books.drop(['Title'],axis=1)\n",
    "books.info()"
   ]
  },
  {
   "cell_type": "markdown",
   "id": "c56f5c33-751e-44f9-9b37-ea856fbdaa19",
   "metadata": {},
   "source": [
    "### Users\n",
    "Lastly lets look at the feature Location in users. Since there are so many unique locations it is unlikley they will be useful to include."
   ]
  },
  {
   "cell_type": "code",
   "execution_count": 50,
   "id": "29cdc75d-65ed-4ac3-ba15-a403842e2407",
   "metadata": {},
   "outputs": [
    {
     "name": "stdout",
     "output_type": "stream",
     "text": [
      "Unique Locations:  4802\n",
      "Number of Users:  10396\n"
     ]
    },
    {
     "data": {
      "text/plain": [
       "7                  timmins, ontario, canada\n",
       "98                 franktown, colorado, usa\n",
       "241    neuffen, baden-wuerttemberg, germany\n",
       "242             arden hills, minnesota, usa\n",
       "253             minneapolis, minnesota, usa\n",
       "Name: Location, dtype: object"
      ]
     },
     "execution_count": 50,
     "metadata": {},
     "output_type": "execute_result"
    }
   ],
   "source": [
    "locs = users['Location'].unique()\n",
    "print('Unique Locations: ',len(locs))\n",
    "print('Number of Users: ',len(users))\n",
    "users['Location'].head()"
   ]
  },
  {
   "cell_type": "code",
   "execution_count": 51,
   "id": "b1afe17b-e904-42d8-a63f-af64a08e9969",
   "metadata": {},
   "outputs": [
    {
     "name": "stdout",
     "output_type": "stream",
     "text": [
      "<class 'pandas.core.frame.DataFrame'>\n",
      "Index: 10396 entries, 7 to 278850\n",
      "Data columns (total 2 columns):\n",
      " #   Column   Non-Null Count  Dtype  \n",
      "---  ------   --------------  -----  \n",
      " 0   User_ID  10396 non-null  int64  \n",
      " 1   Average  10396 non-null  float64\n",
      "dtypes: float64(1), int64(1)\n",
      "memory usage: 243.7 KB\n"
     ]
    }
   ],
   "source": [
    "users = users.drop(['Location'],axis=1)\n",
    "users.info()"
   ]
  },
  {
   "cell_type": "markdown",
   "id": "af7f5204-1f53-4824-b557-87872e4cabb4",
   "metadata": {},
   "source": [
    "### Rating Matrix\n",
    "Finally, in order to be able to pass the data into a model, it needs to be grouped together in a rating matrix."
   ]
  },
  {
   "cell_type": "code",
   "execution_count": 52,
   "id": "b00803f7-f6c5-46f8-8013-a7646d4888cc",
   "metadata": {},
   "outputs": [],
   "source": [
    "users_train, users_test = train_test_split(users, test_size=0.25, shuffle=True)\n",
    "books_train, books_test = train_test_split(books, test_size=0.25, shuffle=True)\n",
    "ratings_train, ratings_test = train_test_split(ratings, test_size=0.25, shuffle=True)"
   ]
  },
  {
   "cell_type": "code",
   "execution_count": 53,
   "id": "1cdf2f80-80d6-4b49-92b5-1c721be613f5",
   "metadata": {},
   "outputs": [
    {
     "data": {
      "text/html": [
       "<div>\n",
       "<style scoped>\n",
       "    .dataframe tbody tr th:only-of-type {\n",
       "        vertical-align: middle;\n",
       "    }\n",
       "\n",
       "    .dataframe tbody tr th {\n",
       "        vertical-align: top;\n",
       "    }\n",
       "\n",
       "    .dataframe thead th {\n",
       "        text-align: right;\n",
       "    }\n",
       "</style>\n",
       "<table border=\"1\" class=\"dataframe\">\n",
       "  <thead>\n",
       "    <tr style=\"text-align: right;\">\n",
       "      <th></th>\n",
       "      <th>User_ID</th>\n",
       "      <th>Book_ID</th>\n",
       "      <th>Rating</th>\n",
       "      <th>Year</th>\n",
       "    </tr>\n",
       "  </thead>\n",
       "  <tbody>\n",
       "    <tr>\n",
       "      <th>0</th>\n",
       "      <td>233445</td>\n",
       "      <td>0452276233</td>\n",
       "      <td>0</td>\n",
       "      <td>1997</td>\n",
       "    </tr>\n",
       "    <tr>\n",
       "      <th>1</th>\n",
       "      <td>177458</td>\n",
       "      <td>0806521317</td>\n",
       "      <td>9</td>\n",
       "      <td>2000</td>\n",
       "    </tr>\n",
       "    <tr>\n",
       "      <th>2</th>\n",
       "      <td>5899</td>\n",
       "      <td>0380789035</td>\n",
       "      <td>9</td>\n",
       "      <td>2002</td>\n",
       "    </tr>\n",
       "    <tr>\n",
       "      <th>3</th>\n",
       "      <td>137589</td>\n",
       "      <td>0380789035</td>\n",
       "      <td>0</td>\n",
       "      <td>2002</td>\n",
       "    </tr>\n",
       "    <tr>\n",
       "      <th>4</th>\n",
       "      <td>255078</td>\n",
       "      <td>0380789035</td>\n",
       "      <td>0</td>\n",
       "      <td>2002</td>\n",
       "    </tr>\n",
       "  </tbody>\n",
       "</table>\n",
       "</div>"
      ],
      "text/plain": [
       "   User_ID     Book_ID  Rating  Year\n",
       "0   233445  0452276233       0  1997\n",
       "1   177458  0806521317       9  2000\n",
       "2     5899  0380789035       9  2002\n",
       "3   137589  0380789035       0  2002\n",
       "4   255078  0380789035       0  2002"
      ]
     },
     "execution_count": 53,
     "metadata": {},
     "output_type": "execute_result"
    }
   ],
   "source": [
    "book_ratings = ratings_train.merge(books_train, on='Book_ID')\n",
    "book_ratings.head()"
   ]
  },
  {
   "cell_type": "code",
   "execution_count": 54,
   "id": "ca6fe00a-cc9d-4a61-8997-ec9e6a8fe436",
   "metadata": {},
   "outputs": [
    {
     "data": {
      "text/html": [
       "<div>\n",
       "<style scoped>\n",
       "    .dataframe tbody tr th:only-of-type {\n",
       "        vertical-align: middle;\n",
       "    }\n",
       "\n",
       "    .dataframe tbody tr th {\n",
       "        vertical-align: top;\n",
       "    }\n",
       "\n",
       "    .dataframe thead th {\n",
       "        text-align: right;\n",
       "    }\n",
       "</style>\n",
       "<table border=\"1\" class=\"dataframe\">\n",
       "  <thead>\n",
       "    <tr style=\"text-align: right;\">\n",
       "      <th></th>\n",
       "      <th>User_ID</th>\n",
       "      <th>Book_ID</th>\n",
       "      <th>Rating</th>\n",
       "      <th>Year</th>\n",
       "      <th>Average</th>\n",
       "    </tr>\n",
       "  </thead>\n",
       "  <tbody>\n",
       "    <tr>\n",
       "      <th>0</th>\n",
       "      <td>233445</td>\n",
       "      <td>0452276233</td>\n",
       "      <td>0</td>\n",
       "      <td>1997</td>\n",
       "      <td>7.625</td>\n",
       "    </tr>\n",
       "    <tr>\n",
       "      <th>1</th>\n",
       "      <td>233445</td>\n",
       "      <td>0380718332</td>\n",
       "      <td>7</td>\n",
       "      <td>1993</td>\n",
       "      <td>7.625</td>\n",
       "    </tr>\n",
       "    <tr>\n",
       "      <th>2</th>\n",
       "      <td>233445</td>\n",
       "      <td>0670868361</td>\n",
       "      <td>8</td>\n",
       "      <td>1996</td>\n",
       "      <td>7.625</td>\n",
       "    </tr>\n",
       "    <tr>\n",
       "      <th>3</th>\n",
       "      <td>233445</td>\n",
       "      <td>0671793489</td>\n",
       "      <td>0</td>\n",
       "      <td>1993</td>\n",
       "      <td>7.625</td>\n",
       "    </tr>\n",
       "    <tr>\n",
       "      <th>4</th>\n",
       "      <td>233445</td>\n",
       "      <td>042516098X</td>\n",
       "      <td>0</td>\n",
       "      <td>1998</td>\n",
       "      <td>7.625</td>\n",
       "    </tr>\n",
       "  </tbody>\n",
       "</table>\n",
       "</div>"
      ],
      "text/plain": [
       "   User_ID     Book_ID  Rating  Year  Average\n",
       "0   233445  0452276233       0  1997    7.625\n",
       "1   233445  0380718332       7  1993    7.625\n",
       "2   233445  0670868361       8  1996    7.625\n",
       "3   233445  0671793489       0  1993    7.625\n",
       "4   233445  042516098X       0  1998    7.625"
      ]
     },
     "execution_count": 54,
     "metadata": {},
     "output_type": "execute_result"
    }
   ],
   "source": [
    "user_book_ratings = book_ratings.merge(users_train, on='User_ID')\n",
    "user_book_ratings = user_book_ratings.drop_duplicates(subset=['Book_ID', 'User_ID'], keep='first')\n",
    "user_book_ratings.head()"
   ]
  },
  {
   "cell_type": "markdown",
   "id": "51ad5974-8b25-4270-b72e-05d3740de574",
   "metadata": {},
   "source": [
    "### Trim the dataframe\n",
    "Currently the dataframe is way to large to use relistically. Drop books that have few ratings and users who have not rated a lot of books."
   ]
  },
  {
   "cell_type": "code",
   "execution_count": 55,
   "id": "b2333c27-3019-4720-ac6b-de2b630bbfce",
   "metadata": {},
   "outputs": [
    {
     "name": "stdout",
     "output_type": "stream",
     "text": [
      "Before:  (357419, 5)\n",
      "After:  (33450, 5)\n"
     ]
    },
    {
     "data": {
      "text/html": [
       "<div>\n",
       "<style scoped>\n",
       "    .dataframe tbody tr th:only-of-type {\n",
       "        vertical-align: middle;\n",
       "    }\n",
       "\n",
       "    .dataframe tbody tr th {\n",
       "        vertical-align: top;\n",
       "    }\n",
       "\n",
       "    .dataframe thead th {\n",
       "        text-align: right;\n",
       "    }\n",
       "</style>\n",
       "<table border=\"1\" class=\"dataframe\">\n",
       "  <thead>\n",
       "    <tr style=\"text-align: right;\">\n",
       "      <th></th>\n",
       "      <th>User_ID</th>\n",
       "      <th>Book_ID</th>\n",
       "      <th>Rating</th>\n",
       "      <th>Year</th>\n",
       "      <th>Average</th>\n",
       "    </tr>\n",
       "  </thead>\n",
       "  <tbody>\n",
       "    <tr>\n",
       "      <th>1</th>\n",
       "      <td>233445</td>\n",
       "      <td>0380718332</td>\n",
       "      <td>7</td>\n",
       "      <td>1993</td>\n",
       "      <td>7.625000</td>\n",
       "    </tr>\n",
       "    <tr>\n",
       "      <th>3</th>\n",
       "      <td>233445</td>\n",
       "      <td>0671793489</td>\n",
       "      <td>0</td>\n",
       "      <td>1993</td>\n",
       "      <td>7.625000</td>\n",
       "    </tr>\n",
       "    <tr>\n",
       "      <th>4</th>\n",
       "      <td>233445</td>\n",
       "      <td>042516098X</td>\n",
       "      <td>0</td>\n",
       "      <td>1998</td>\n",
       "      <td>7.625000</td>\n",
       "    </tr>\n",
       "    <tr>\n",
       "      <th>23</th>\n",
       "      <td>177458</td>\n",
       "      <td>0345353145</td>\n",
       "      <td>7</td>\n",
       "      <td>1988</td>\n",
       "      <td>9.142857</td>\n",
       "    </tr>\n",
       "    <tr>\n",
       "      <th>24</th>\n",
       "      <td>177458</td>\n",
       "      <td>0316666343</td>\n",
       "      <td>0</td>\n",
       "      <td>2002</td>\n",
       "      <td>9.142857</td>\n",
       "    </tr>\n",
       "  </tbody>\n",
       "</table>\n",
       "</div>"
      ],
      "text/plain": [
       "    User_ID     Book_ID  Rating  Year   Average\n",
       "1    233445  0380718332       7  1993  7.625000\n",
       "3    233445  0671793489       0  1993  7.625000\n",
       "4    233445  042516098X       0  1998  7.625000\n",
       "23   177458  0345353145       7  1988  9.142857\n",
       "24   177458  0316666343       0  2002  9.142857"
      ]
     },
     "execution_count": 55,
     "metadata": {},
     "output_type": "execute_result"
    }
   ],
   "source": [
    "# Create temp lists to preserve data\n",
    "temp_list = user_book_ratings\n",
    "\n",
    "# Remove users with less than 200 ratings\n",
    "user_ids_temp = temp_list['User_ID'].value_counts() > 200\n",
    "\n",
    "# Remove books with less than 60 ratings\n",
    "book_ids_temp = temp_list['Book_ID'].value_counts() > 60\n",
    "\n",
    "# Make lists of the remaining ids\n",
    "user_ids = user_ids_temp[user_ids_temp].index\n",
    "book_ids = book_ids_temp[book_ids_temp].index\n",
    "\n",
    "# Create a new PD with only the pruned data\n",
    "temp_list_final = temp_list\n",
    "temp_list_final = temp_list[user_book_ratings['User_ID'].isin(user_ids)]\n",
    "temp_list_final = temp_list[user_book_ratings['Book_ID'].isin(book_ids)]\n",
    "\n",
    "# Compare the shapes\n",
    "print('Before: ',user_book_ratings.shape)\n",
    "print('After: ',temp_list_final.shape)\n",
    "temp_list_final.head()"
   ]
  },
  {
   "cell_type": "code",
   "execution_count": 56,
   "id": "460e8f75-e1ae-4a56-b7c8-1e5806c1c33e",
   "metadata": {},
   "outputs": [],
   "source": [
    "allusers = users_train['User_ID'].unique()\n",
    "allbooks = books_train['Book_ID'].unique()\n",
    "\n",
    "bid2idx = dict(zip(books_train['Book_ID'],list(range(len(allbooks)))))\n",
    "uid2idx = dict(zip(users_train['User_ID'],list(range(len(allusers)))))\n",
    "\n",
    "idx_book = [bid2idx[x] for x in temp_list_final['Book_ID']] \n",
    "idx_user = [uid2idx[x] for x in temp_list_final['User_ID']]\n",
    "rating_train = list(temp_list_final['Rating'])\n",
    "\n",
    "rating_matrix = coo_matrix((rating_train, (idx_user, idx_book)), shape=(len(allusers), len(allbooks)))"
   ]
  },
  {
   "cell_type": "code",
   "execution_count": 57,
   "id": "b83fb27f-f569-4192-b31f-a9f7f6d57492",
   "metadata": {},
   "outputs": [
    {
     "data": {
      "text/plain": [
       "(7797, 200042)"
      ]
     },
     "execution_count": 57,
     "metadata": {},
     "output_type": "execute_result"
    }
   ],
   "source": [
    "rating_matrix.shape"
   ]
  },
  {
   "cell_type": "markdown",
   "id": "32b60925-bc96-4d98-b16f-d3e655555d14",
   "metadata": {},
   "source": [
    "## Model Building\n",
    "For this project I am going to focus on clustering methods since they are good at grouping different observations by their similarities.\n",
    "\n",
    "### KMeans Clustering\n",
    "My first model will be a KMeans clustering model. Kmeans clustering is a faster, simpler method than other clustering algorithms making it a good one to start with. It clusters data based on the number of n_clusters passed in to it. However, KMeans tends to be better at making even sized clusters, so it might not reflect the data accurately if it is skewed towards some clusters over others. KMeans can also accept sparce matricies as inputs which works well for recommender systems."
   ]
  },
  {
   "cell_type": "code",
   "execution_count": 58,
   "id": "2a37aad6-d7de-41b4-b0b9-465743acacb0",
   "metadata": {},
   "outputs": [],
   "source": [
    "kmean = KMeans(n_clusters=5, n_init=10).fit(rating_matrix)\n",
    "clusters = kmean.predict(rating_matrix)\n",
    "kmean_transform = kmean.transform(rating_matrix)"
   ]
  },
  {
   "cell_type": "markdown",
   "id": "b7baa690-3e03-4046-bf8d-952947b1bc18",
   "metadata": {},
   "source": [
    "### Root Mean Square Error\n",
    "In order to analyze the model I created a method that computes the root mean square error of the results. I do this by getting the average user rating for each cluster and compare it to the average ratings for the individual users. Then I take the average of all the root mean square errors in the model and return that. The lower the root mean square error, the better the model's performance."
   ]
  },
  {
   "cell_type": "code",
   "execution_count": 59,
   "id": "30e230ff-81a4-4c48-bac5-1266c92958d7",
   "metadata": {},
   "outputs": [],
   "source": [
    "def rmse(clusters):\n",
    "    users_train['Cluster'] = clusters\n",
    "    clusterslist = np.unique(clusters)\n",
    "    rmses = []\n",
    "\n",
    "    for c in clusterslist:\n",
    "        users_c = users_train[users_train['Cluster'].isin([c])]\n",
    "        cluster_ave = users_c['Average'].mean()\n",
    "        ave_list = users_c['Average'].to_list()\n",
    "        # print(cluster_ave)\n",
    "        rmse_sum_c = [(u - cluster_ave)**2 for u in ave_list]\n",
    "        rmses.append(sum(rmse_sum_c)/len(rmse_sum_c))\n",
    "\n",
    "    return sum(rmses)/len(rmses)   "
   ]
  },
  {
   "cell_type": "code",
   "execution_count": 60,
   "id": "4a2debec-68da-476d-9174-dfb8179d255c",
   "metadata": {},
   "outputs": [
    {
     "name": "stdout",
     "output_type": "stream",
     "text": [
      "0.9106989821214084\n"
     ]
    }
   ],
   "source": [
    "rmse_kmean = rmse(clusters)\n",
    "print(rmse_kmean)"
   ]
  },
  {
   "cell_type": "markdown",
   "id": "cc88cc9e-dc1c-417b-9e19-9033c419d0ba",
   "metadata": {},
   "source": [
    "### Predict\n",
    "I also created a predict class that returns a cluster's average rating for a movie."
   ]
  },
  {
   "cell_type": "code",
   "execution_count": 61,
   "id": "89db5a20-d0af-4e4f-a000-eaad60dca1dd",
   "metadata": {},
   "outputs": [],
   "source": [
    "def predict_rating(user,book,clusters):\n",
    "    users_train['Cluster'] = clusters\n",
    "    \n",
    "    c = users_train[users_train['User_ID'].isin([user])]\n",
    "    c = c['Cluster'].to_numpy()\n",
    "    users_c = users_train[users_train['Cluster'].isin(c)]['User_ID'].unique()\n",
    "\n",
    "    book_id = temp_list_final[temp_list_final['Book_ID'].isin([book])]\n",
    "    book_c = book_id[book_id['User_ID'].isin(users_c)]\n",
    "\n",
    "    book_ave = book_c['Rating'].mean()\n",
    "    \n",
    "    return book_ave "
   ]
  },
  {
   "cell_type": "markdown",
   "id": "5c7f1114-cf83-447b-b184-a5b837d88bfa",
   "metadata": {},
   "source": [
    "### Hyperparameter Optimization\n",
    "In order to improve the models performance different hyperparameter can be adjusted.\n",
    "\n",
    "#### N_Clusters\n",
    "The most important hyperparameter for this model is n_clusters. n_clusters determines the number of clusters the model sorts the data into. While a higher numbe rof clusters leads to a lower root mean square error, it is important to be careful of overfitting."
   ]
  },
  {
   "cell_type": "code",
   "execution_count": 62,
   "id": "fa509087-213d-478f-b109-45fdb9a62953",
   "metadata": {},
   "outputs": [
    {
     "name": "stdout",
     "output_type": "stream",
     "text": [
      "1, rmse: 1.188375813699861\n",
      "2, rmse: 1.1412926136688277\n",
      "3, rmse: 1.2103770577603135\n",
      "4, rmse: 1.3280586173859037\n",
      "5, rmse: 1.1423104659153296\n",
      "6, rmse: 0.9910156587315448\n",
      "7, rmse: 0.9313418534574627\n",
      "8, rmse: 0.8308270828119384\n",
      "9, rmse: 0.8381557884515288\n",
      "10, rmse: 0.812555922869749\n"
     ]
    },
    {
     "data": {
      "text/plain": [
       "<Axes: >"
      ]
     },
     "execution_count": 62,
     "metadata": {},
     "output_type": "execute_result"
    },
    {
     "data": {
      "image/png": "[encoded data removed]",
      "text/plain": [
       "<Figure size 640x480 with 1 Axes>"
      ]
     },
     "metadata": {},
     "output_type": "display_data"
    }
   ],
   "source": [
    "rmses = []\n",
    "\n",
    "for i in range(1,11):\n",
    "    kmean = KMeans(n_clusters=i, n_init=10).fit(rating_matrix)\n",
    "    clusters = kmean.predict(rating_matrix)\n",
    "    rmse_kmean = rmse(clusters)\n",
    "    print(f'{i}, rmse: {rmse_kmean}')\n",
    "    rmses.append(rmse_kmean)\n",
    "\n",
    "sb.barplot(y=rmses, x=[i for i in range(1,11)])"
   ]
  },
  {
   "cell_type": "markdown",
   "id": "7aad67ee-eb3b-40c4-8e2f-3b5660e9e17d",
   "metadata": {},
   "source": [
    "#### Algorithm\n",
    "Another hyper parameter worth looking into is algorithm. While elkan has a lower root mean square error, it is important to keep in minde that it has a slower performance compared to lloyd. However this dataset is small enough that elkan works well for this task."
   ]
  },
  {
   "cell_type": "code",
   "execution_count": 63,
   "id": "3a403c11-3b6b-4181-927e-e3f947928263",
   "metadata": {},
   "outputs": [
    {
     "name": "stdout",
     "output_type": "stream",
     "text": [
      "lloyd, rmse: 1.2115704145921848\n",
      "elkan, rmse: 0.8557461420439804\n"
     ]
    }
   ],
   "source": [
    "rmses = []\n",
    "algs = ['lloyd', 'elkan']\n",
    "\n",
    "for a in algs:\n",
    "    kmean = KMeans(n_clusters=5, n_init=10, algorithm=a).fit(rating_matrix)\n",
    "    clusters = kmean.predict(rating_matrix)\n",
    "    rmse_kmean = rmse(clusters)\n",
    "    print(f'{a}, rmse: {rmse_kmean}')\n",
    "    rmses.append(rmse_kmean)"
   ]
  },
  {
   "cell_type": "markdown",
   "id": "8254a662-dc75-4f59-a049-8dddbca4ca1a",
   "metadata": {},
   "source": [
    "#### n_init\n",
    "Lastley I am going to look at n_init. n_init determines how many different starting seeds the model tries. Since the inital centroids are chosen at random, it can be benificial to try a few different starting positions. The random factor also leads to more random results. Five seems like a good value to stick with however."
   ]
  },
  {
   "cell_type": "code",
   "execution_count": 64,
   "id": "5833cad5-cdb8-4afc-9a72-e2f48cb819a6",
   "metadata": {},
   "outputs": [
    {
     "name": "stdout",
     "output_type": "stream",
     "text": [
      "elkan, rmse: 0.7207037717000646\n",
      "elkan, rmse: 0.8431473484624995\n",
      "elkan, rmse: 0.9118911751415665\n",
      "elkan, rmse: 0.6858845445638952\n",
      "elkan, rmse: 0.9431675858466253\n",
      "elkan, rmse: 1.0499654272496097\n",
      "elkan, rmse: 1.1875110445490908\n",
      "elkan, rmse: 0.9466960872351731\n",
      "elkan, rmse: 0.9223137551478342\n",
      "elkan, rmse: 1.123783775459024\n"
     ]
    },
    {
     "data": {
      "text/plain": [
       "<Axes: >"
      ]
     },
     "execution_count": 64,
     "metadata": {},
     "output_type": "execute_result"
    },
    {
     "data": {
      "image/png": "[encoded data removed]",
      "text/plain": [
       "<Figure size 640x480 with 1 Axes>"
      ]
     },
     "metadata": {},
     "output_type": "display_data"
    }
   ],
   "source": [
    "rmses = []\n",
    "\n",
    "for i in range(1,11):\n",
    "    kmean = KMeans(n_clusters=5, n_init=i, algorithm='elkan').fit(rating_matrix)\n",
    "    clusters = kmean.predict(rating_matrix)\n",
    "    rmse_kmean = rmse(clusters)\n",
    "    print(f'{a}, rmse: {rmse_kmean}')\n",
    "    rmses.append(rmse_kmean)\n",
    "\n",
    "sb.barplot(y=rmses, x=[i for i in range(1,11)])"
   ]
  },
  {
   "cell_type": "markdown",
   "id": "282e4e22-e8ed-41cd-bdba-d3f05d5695b8",
   "metadata": {},
   "source": [
    "#### Final Model\n",
    "For the final model I set n_clusters=5, algorithm=elkan, and n_init=5. This leads to a rmse of: 0.9055"
   ]
  },
  {
   "cell_type": "code",
   "execution_count": 82,
   "id": "aa803452-2254-4f51-a443-301152812bef",
   "metadata": {},
   "outputs": [
    {
     "name": "stdout",
     "output_type": "stream",
     "text": [
      "final rmse:  0.9055088701221059\n"
     ]
    }
   ],
   "source": [
    "kmean_final = KMeans(n_clusters=5, n_init=i, algorithm='elkan').fit(rating_matrix)\n",
    "clusters_final = kmean_final.predict(rating_matrix)\n",
    "rmse_kmean_final = rmse(clusters_final)\n",
    "\n",
    "print('final rmse: ', rmse_kmean_final)"
   ]
  },
  {
   "cell_type": "markdown",
   "id": "ee27e49c-4f91-47bb-8b44-c5cdb027b4b9",
   "metadata": {},
   "source": [
    "### Predictions\n",
    "Now we can use our model to predict how a user would rate a certain book."
   ]
  },
  {
   "cell_type": "code",
   "execution_count": 66,
   "id": "adf75dc5-0852-4c61-9e73-3925ff848577",
   "metadata": {},
   "outputs": [
    {
     "name": "stdout",
     "output_type": "stream",
     "text": [
      "predicted rating:  1.7011494252873562\n",
      "predicted rating:  2.6690647482014387\n"
     ]
    }
   ],
   "source": [
    "user_id = users_train['User_ID'].iloc[0]\n",
    "book_id = temp_list_final['Book_ID'].iloc[12]\n",
    "\n",
    "pred = predict_rating(user_id,book_id,clusters_final)\n",
    "print('predicted rating: ', pred)\n",
    "\n",
    "user_id = users_train['User_ID'].iloc[20]\n",
    "book_id = temp_list_final['Book_ID'].iloc[3]\n",
    "\n",
    "pred = predict_rating(user_id,book_id,clusters_final)\n",
    "print('predicted rating: ', pred)"
   ]
  },
  {
   "cell_type": "markdown",
   "id": "a6f768ec-b4a5-46a4-bbe9-962ba66b6f5e",
   "metadata": {},
   "source": [
    "## BisectingKMeans\n",
    "For my second model I went with Bisecting KMeans Clustering. Unlike KMeans, Bisecting KMeans uses hierarchical clustering when picking centroids to base clusters off of. It is more efficiant than KMeans which is good when you have a large dataset. Looking at the base model's performance, it has a lower RMSE than the KMeans model had."
   ]
  },
  {
   "cell_type": "code",
   "execution_count": 67,
   "id": "f471ba7f-3351-4bc5-8b7f-ddac63f38241",
   "metadata": {},
   "outputs": [],
   "source": [
    "bkm = BisectingKMeans().fit(rating_matrix)\n",
    "bkm_pred = bkm.predict(rating_matrix)"
   ]
  },
  {
   "cell_type": "code",
   "execution_count": 68,
   "id": "cb9c6cc3-4690-4035-8abe-b0a994feef3a",
   "metadata": {},
   "outputs": [
    {
     "name": "stdout",
     "output_type": "stream",
     "text": [
      "0.7929263654996819\n"
     ]
    }
   ],
   "source": [
    "rmse_kmean = rmse(bkm_pred)\n",
    "print(rmse_kmean)"
   ]
  },
  {
   "cell_type": "code",
   "execution_count": 69,
   "id": "06108fa0-9a30-42fd-a574-cda888de6233",
   "metadata": {},
   "outputs": [
    {
     "name": "stdout",
     "output_type": "stream",
     "text": [
      "predicted rating:  1.7386363636363635\n"
     ]
    }
   ],
   "source": [
    "user_id = users_train['User_ID'].iloc[0]\n",
    "book_id = temp_list_final['Book_ID'].iloc[12]\n",
    "\n",
    "pred = predict_rating(user_id,book_id,bkm_pred)\n",
    "print('predicted rating: ', pred)"
   ]
  },
  {
   "cell_type": "markdown",
   "id": "e9dbb55f-a779-4e39-b8b3-a2574a92f02d",
   "metadata": {},
   "source": [
    "### Hyperparameter Optimization\n",
    "In order to improve the models performance even further different hyperparameter can be adjusted.\n",
    "\n",
    "#### N_Clusters\n",
    "While the centroids are chosen in a hierarchical way, Bisecting KMeans still takes in a set number of clusters."
   ]
  },
  {
   "cell_type": "code",
   "execution_count": 70,
   "id": "f7f4cd95-43e0-4ccc-96d7-c7ad3de38d62",
   "metadata": {},
   "outputs": [
    {
     "name": "stdout",
     "output_type": "stream",
     "text": [
      "1, rmse: 1.188375813699861\n",
      "2, rmse: 1.1412926136688277\n",
      "3, rmse: 0.9081516638844099\n",
      "4, rmse: 0.29713331895065315\n",
      "5, rmse: 0.5101703554925955\n",
      "6, rmse: 0.8579099261817896\n",
      "7, rmse: 0.8105792550824457\n",
      "8, rmse: 0.7541428425826124\n",
      "9, rmse: 0.9847879085789225\n",
      "10, rmse: 0.8875356560558059\n"
     ]
    },
    {
     "data": {
      "text/plain": [
       "<Axes: >"
      ]
     },
     "execution_count": 70,
     "metadata": {},
     "output_type": "execute_result"
    },
    {
     "data": {
      "image/png": "[encoded data removed]",
      "text/plain": [
       "<Figure size 640x480 with 1 Axes>"
      ]
     },
     "metadata": {},
     "output_type": "display_data"
    }
   ],
   "source": [
    "rmses = []\n",
    "\n",
    "for i in range(1,11):\n",
    "    bkm = BisectingKMeans(n_clusters=i).fit(rating_matrix)\n",
    "    bkm_pred = bkm.predict(rating_matrix)\n",
    "    rmse_bkm = rmse(bkm_pred)\n",
    "    print(f'{i}, rmse: {rmse_bkm}')\n",
    "    rmses.append(rmse_bkm)\n",
    "\n",
    "sb.barplot(y=rmses, x=[i for i in range(1,11)])"
   ]
  },
  {
   "cell_type": "markdown",
   "id": "7f13e759-1bd2-4d5f-888a-88439caed8b8",
   "metadata": {},
   "source": [
    "#### Algorithm"
   ]
  },
  {
   "cell_type": "code",
   "execution_count": 71,
   "id": "9126280d-e7f6-4cf9-8dcc-d5ffeea26354",
   "metadata": {},
   "outputs": [
    {
     "name": "stdout",
     "output_type": "stream",
     "text": [
      "lloyd, rmse: 0.6435454119046842\n",
      "elkan, rmse: 0.7920302677775531\n"
     ]
    }
   ],
   "source": [
    "rmses = []\n",
    "algs = ['lloyd', 'elkan']\n",
    "\n",
    "for a in algs:\n",
    "    bkm = BisectingKMeans(n_clusters=5, algorithm=a).fit(rating_matrix)\n",
    "    bkm_pred = bkm.predict(rating_matrix)\n",
    "    rmse_bkm = rmse(bkm_pred)\n",
    "    print(f'{a}, rmse: {rmse_bkm}')\n",
    "    rmses.append(rmse_bkm)"
   ]
  },
  {
   "cell_type": "markdown",
   "id": "6808dc7c-5fa1-45dd-9a87-80afb3c82abc",
   "metadata": {},
   "source": [
    "#### n_init"
   ]
  },
  {
   "cell_type": "code",
   "execution_count": 72,
   "id": "e0727b5c-13c0-4428-b5e4-7985e3ad4723",
   "metadata": {},
   "outputs": [
    {
     "name": "stdout",
     "output_type": "stream",
     "text": [
      "1, rmse: 0.6754349432286428\n",
      "2, rmse: 0.7973599245107248\n",
      "3, rmse: 1.3153399354077018\n",
      "4, rmse: 1.0747201163586486\n",
      "5, rmse: 1.1573216914414801\n",
      "6, rmse: 1.1289005193358732\n",
      "7, rmse: 1.0780664951802006\n",
      "8, rmse: 1.1934110201373194\n",
      "9, rmse: 1.0550291352244567\n",
      "10, rmse: 1.0799691422550954\n"
     ]
    },
    {
     "data": {
      "text/plain": [
       "<Axes: >"
      ]
     },
     "execution_count": 72,
     "metadata": {},
     "output_type": "execute_result"
    },
    {
     "data": {
      "image/png": "[encoded data removed]",
      "text/plain": [
       "<Figure size 640x480 with 1 Axes>"
      ]
     },
     "metadata": {},
     "output_type": "display_data"
    }
   ],
   "source": [
    "rmses = []\n",
    "\n",
    "for i in range(1,11):\n",
    "    bkm = BisectingKMeans(n_clusters=5, algorithm='elkan', n_init=i).fit(rating_matrix)\n",
    "    bkm_pred = bkm.predict(rating_matrix)\n",
    "    rmse_bkm = rmse(bkm_pred)\n",
    "    print(f'{i}, rmse: {rmse_bkm}')\n",
    "    rmses.append(rmse_bkm)\n",
    "\n",
    "sb.barplot(y=rmses, x=[i for i in range(1,11)])"
   ]
  },
  {
   "cell_type": "markdown",
   "id": "0aa185e9-90ef-4381-98cb-1453714deef7",
   "metadata": {},
   "source": [
    "#### bisecting_strategy\n",
    "Bisecting strategy determines how bisections should be performed when selecting centroids."
   ]
  },
  {
   "cell_type": "code",
   "execution_count": 73,
   "id": "7e8a2367-9969-4979-8963-61cb9650f0a8",
   "metadata": {},
   "outputs": [
    {
     "name": "stdout",
     "output_type": "stream",
     "text": [
      "biggest_inertia, rmse: 0.614369052689589\n",
      "largest_cluster, rmse: 0.766769629713252\n"
     ]
    }
   ],
   "source": [
    "rmses = []\n",
    "strategy = ['biggest_inertia', 'largest_cluster']\n",
    "\n",
    "for s in strategy:\n",
    "    bkm = BisectingKMeans(n_clusters=5, algorithm='elkan', bisecting_strategy=s).fit(rating_matrix)\n",
    "    bkm_pred = bkm.predict(rating_matrix)\n",
    "    rmse_bkm = rmse(bkm_pred)\n",
    "    print(f'{s}, rmse: {rmse_bkm}')\n",
    "    rmses.append(rmse_bkm)"
   ]
  },
  {
   "cell_type": "markdown",
   "id": "f573877f-8aaf-470a-81c3-106bb4ce4447",
   "metadata": {},
   "source": [
    "### Final Model\n",
    "For the final model I set n_clusters=5, algorithm=elkan, and bisecting_strategy=largest_cluster. This leads to a rmse of: 0.5446."
   ]
  },
  {
   "cell_type": "code",
   "execution_count": 80,
   "id": "a6eb4db5-5c90-4b8a-b4b3-0e8af1242ecc",
   "metadata": {},
   "outputs": [],
   "source": [
    "bkm_final = BisectingKMeans(n_clusters=5, algorithm='elkan', bisecting_strategy='largest_cluster').fit(rating_matrix)\n",
    "bkm_pred_final = bkm_final.predict(rating_matrix)"
   ]
  },
  {
   "cell_type": "code",
   "execution_count": 81,
   "id": "8d3663d1-53e1-48ea-b124-fdd4fe4c89ca",
   "metadata": {},
   "outputs": [
    {
     "name": "stdout",
     "output_type": "stream",
     "text": [
      "0.5445858527038401\n"
     ]
    }
   ],
   "source": [
    "rmse_kmean = rmse(bkm_pred_final)\n",
    "print(rmse_kmean)"
   ]
  },
  {
   "cell_type": "code",
   "execution_count": 76,
   "id": "84e43762-3bde-405d-acce-86292d677d10",
   "metadata": {},
   "outputs": [
    {
     "name": "stdout",
     "output_type": "stream",
     "text": [
      "predicted rating:  1.7058823529411764\n"
     ]
    }
   ],
   "source": [
    "user_id = users_train['User_ID'].iloc[0]\n",
    "book_id = temp_list_final['Book_ID'].iloc[12]\n",
    "\n",
    "pred = predict_rating(user_id,book_id,bkm_pred_final)\n",
    "print('predicted rating: ', pred)"
   ]
  },
  {
   "cell_type": "markdown",
   "id": "bb994d92-99e1-46f6-9fcf-b60b9ebc8b43",
   "metadata": {},
   "source": [
    "## Conclusion\n",
    "The Book Recommender data needed extensive cleaning. Because of this, it was hard to use most of the features in the books dataframe. Therefore unsupervised learning was the best approach to predicting book ratings. Since recommender systems often use collaborative or content based recommendations, clustering models made the most sense since both of those methods involve grouping similar data together. \n",
    "\n",
    "### Results\n",
    "Looking at the results BisectingKMeans was definitely the better model. It's starting RMSE was already quite low compared to KMeans starting RMSE. After optimizing the hyperparameters I was able to bring BisectingKMeans's rmse down to 0.5446.\n",
    "\n",
    "### What could be improved\n",
    "In the future I could try replacing missing rating values with users's average ratings. This would produce a more accurate result because the models cannot tell between a low rating and a missing rating, so zero values can skew the data. I would aldo try to do more Principle Component Analysis next time. That would help determine which book are more informative to examine.\n"
   ]
  },
  {
   "cell_type": "code",
   "execution_count": null,
   "id": "a46f6441-02ec-40f0-9d00-848f05b3608d",
   "metadata": {},
   "outputs": [],
   "source": []
  }
 ],
 "metadata": {
  "kernelspec": {
   "display_name": "Python 3 (ipykernel)",
   "language": "python",
   "name": "python3"
  },
  "language_info": {
   "codemirror_mode": {
    "name": "ipython",
    "version": 3
   },
   "file_extension": ".py",
   "mimetype": "text/x-python",
   "name": "python",
   "nbconvert_exporter": "python",
   "pygments_lexer": "ipython3",
   "version": "3.8.17"
  }
 },
 "nbformat": 4,
 "nbformat_minor": 5
}
