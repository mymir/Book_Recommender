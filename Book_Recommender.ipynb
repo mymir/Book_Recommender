{
 "cells": [
  {
   "cell_type": "markdown",
   "id": "49719974-1273-4430-beb1-c49a197d09ff",
   "metadata": {},
   "source": [
    "# Book Recommender System\n",
    "### Project Topic\n",
    "For this project I chose to create a book recommender system. I am using the [Book Recommender System](https://www.kaggle.com/datasets/rxsraghavagrawal/book-recommender-system/data) dataset from Kaggle: <br>\n",
    "> RAGHAV AGRAWAL. Book Recommender System. Retrieved June 24, 2024 from (https://www.kaggle.com/datasets/rxsraghavagrawal/book-recommender-system/data).\n",
    "> \n",
    "<br> The sound clips that were used for this data were taken in 3 second chunks from public YouTube Music Mixes. The dataset is under an MIT license. \n",
    "<br>\n",
    "The code for this project can be found on this GitHub page: (https://github.com/mymir/EDM_Classifier/tree/decision_tree)\n",
    "#### Task\n",
    "While the original intent for this dataset was to help classify what sub genre different EDM audio clips belong to, there are other ways this data can be used. Many musicians use short music samples in their songs. Identifying what features are more important in classifying EDM genres, and which genres are the most similar to each other, could potentially help musicians select samples that best fit the song they are creating. Furthermore, it could also help musicians automatically label their music when they upload it to sites like Spotify or Soundcloud.<br>\n",
    "#### Type of Algorithm\n",
    "This is a multi-class classification problem, which means the best algorithms to use for this would be non-parametric classifiers."
   ]
  }
 ],
 "metadata": {
  "kernelspec": {
   "display_name": "Python 3 (ipykernel)",
   "language": "python",
   "name": "python3"
  },
  "language_info": {
   "codemirror_mode": {
    "name": "ipython",
    "version": 3
   },
   "file_extension": ".py",
   "mimetype": "text/x-python",
   "name": "python",
   "nbconvert_exporter": "python",
   "pygments_lexer": "ipython3",
   "version": "3.8.17"
  }
 },
 "nbformat": 4,
 "nbformat_minor": 5
}
